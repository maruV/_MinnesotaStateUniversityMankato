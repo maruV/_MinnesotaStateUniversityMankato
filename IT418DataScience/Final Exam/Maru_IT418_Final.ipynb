{
 "cells": [
  {
   "cell_type": "markdown",
   "metadata": {},
   "source": [
    "<b>Vishal Maru</b>\n",
    "<b>IT 418 Final Exam</b>\n",
    "<b>Dr. Rajeev Bukralia</b>\n",
    "<b>May 4, 2020</b>\n",
    "\n"
   ]
  },
  {
   "cell_type": "code",
   "execution_count": 1,
   "metadata": {
    "collapsed": false
   },
   "outputs": [],
   "source": [
    "import numpy as np\n",
    "import pandas as pd\n",
    "\n",
    "from pandas import Series, DataFrame\n",
    "\n",
    "import scipy\n",
    "from scipy.stats import spearmanr\n",
    "\n",
    "from pylab import rcParams\n",
    "import seaborn as sb\n",
    "import matplotlib.pyplot as plt\n",
    "\n",
    "import sklearn\n",
    "from sklearn.preprocessing import scale\n",
    "from sklearn.linear_model import LogisticRegression\n",
    "from sklearn.cross_validation import train_test_split\n",
    "from sklearn import preprocessing\n",
    "from sklearn import metrics\n",
    "from sklearn.metrics import classification_report\n",
    "from sklearn.metrics import roc_auc_score"
   ]
  },
  {
   "cell_type": "markdown",
   "metadata": {},
   "source": [
    "<b>A</b>"
   ]
  },
  {
   "cell_type": "code",
   "execution_count": 2,
   "metadata": {
    "collapsed": true
   },
   "outputs": [],
   "source": [
    "patients = pd.read_csv('patients.csv')"
   ]
  },
  {
   "cell_type": "code",
   "execution_count": 3,
   "metadata": {
    "collapsed": true
   },
   "outputs": [],
   "source": [
    "# cars.rename( columns={'Unnamed: 0':'car_names'}, inplace=True )"
   ]
  },
  {
   "cell_type": "markdown",
   "metadata": {},
   "source": [
    "<b>B</b>"
   ]
  },
  {
   "cell_type": "code",
   "execution_count": 4,
   "metadata": {
    "collapsed": false
   },
   "outputs": [
    {
     "data": {
      "text/html": [
       "<div>\n",
       "<table border=\"1\" class=\"dataframe\">\n",
       "  <thead>\n",
       "    <tr style=\"text-align: right;\">\n",
       "      <th></th>\n",
       "      <th>Pregnancies</th>\n",
       "      <th>Glucose</th>\n",
       "      <th>BloodPressure</th>\n",
       "      <th>SkinThickness</th>\n",
       "      <th>Insulin</th>\n",
       "      <th>BMI</th>\n",
       "      <th>Pedigree</th>\n",
       "      <th>Age</th>\n",
       "      <th>Diagnosis</th>\n",
       "    </tr>\n",
       "  </thead>\n",
       "  <tbody>\n",
       "    <tr>\n",
       "      <th>0</th>\n",
       "      <td>6</td>\n",
       "      <td>148</td>\n",
       "      <td>72</td>\n",
       "      <td>35</td>\n",
       "      <td>0</td>\n",
       "      <td>33.6</td>\n",
       "      <td>0.627</td>\n",
       "      <td>50</td>\n",
       "      <td>1</td>\n",
       "    </tr>\n",
       "    <tr>\n",
       "      <th>1</th>\n",
       "      <td>1</td>\n",
       "      <td>85</td>\n",
       "      <td>66</td>\n",
       "      <td>29</td>\n",
       "      <td>0</td>\n",
       "      <td>26.6</td>\n",
       "      <td>0.351</td>\n",
       "      <td>31</td>\n",
       "      <td>0</td>\n",
       "    </tr>\n",
       "    <tr>\n",
       "      <th>2</th>\n",
       "      <td>8</td>\n",
       "      <td>183</td>\n",
       "      <td>64</td>\n",
       "      <td>0</td>\n",
       "      <td>0</td>\n",
       "      <td>23.3</td>\n",
       "      <td>0.672</td>\n",
       "      <td>32</td>\n",
       "      <td>1</td>\n",
       "    </tr>\n",
       "    <tr>\n",
       "      <th>3</th>\n",
       "      <td>1</td>\n",
       "      <td>89</td>\n",
       "      <td>66</td>\n",
       "      <td>23</td>\n",
       "      <td>94</td>\n",
       "      <td>28.1</td>\n",
       "      <td>0.167</td>\n",
       "      <td>21</td>\n",
       "      <td>0</td>\n",
       "    </tr>\n",
       "    <tr>\n",
       "      <th>4</th>\n",
       "      <td>0</td>\n",
       "      <td>137</td>\n",
       "      <td>40</td>\n",
       "      <td>35</td>\n",
       "      <td>168</td>\n",
       "      <td>43.1</td>\n",
       "      <td>2.288</td>\n",
       "      <td>33</td>\n",
       "      <td>1</td>\n",
       "    </tr>\n",
       "  </tbody>\n",
       "</table>\n",
       "</div>"
      ],
      "text/plain": [
       "   Pregnancies  Glucose  BloodPressure  SkinThickness  Insulin   BMI  \\\n",
       "0            6      148             72             35        0  33.6   \n",
       "1            1       85             66             29        0  26.6   \n",
       "2            8      183             64              0        0  23.3   \n",
       "3            1       89             66             23       94  28.1   \n",
       "4            0      137             40             35      168  43.1   \n",
       "\n",
       "   Pedigree  Age  Diagnosis  \n",
       "0     0.627   50          1  \n",
       "1     0.351   31          0  \n",
       "2     0.672   32          1  \n",
       "3     0.167   21          0  \n",
       "4     2.288   33          1  "
      ]
     },
     "execution_count": 4,
     "metadata": {},
     "output_type": "execute_result"
    }
   ],
   "source": [
    "patients.head()"
   ]
  },
  {
   "cell_type": "markdown",
   "metadata": {},
   "source": [
    "On seeing the first 5 rows we can clearly see some invlaid values where Skin Thickness and Insulin are zero"
   ]
  },
  {
   "cell_type": "markdown",
   "metadata": {},
   "source": []
  },
  {
   "cell_type": "code",
   "execution_count": 5,
   "metadata": {
    "collapsed": false
   },
   "outputs": [
    {
     "name": "stdout",
     "output_type": "stream",
     "text": [
      "median   3.0\n",
      "count    768.000000\n",
      "mean       3.845052\n",
      "std        3.369578\n",
      "min        0.000000\n",
      "25%        1.000000\n",
      "50%        3.000000\n",
      "75%        6.000000\n",
      "max       17.000000\n",
      "Name: Pregnancies, dtype: float64\n"
     ]
    }
   ],
   "source": [
    "print (\"median  \", patients.Pregnancies.median())\n",
    "print (patients.Pregnancies.describe())"
   ]
  },
  {
   "cell_type": "code",
   "execution_count": 6,
   "metadata": {
    "collapsed": false
   },
   "outputs": [
    {
     "name": "stdout",
     "output_type": "stream",
     "text": [
      "median   117.0\n",
      "count    768.000000\n",
      "mean     120.894531\n",
      "std       31.972618\n",
      "min        0.000000\n",
      "25%       99.000000\n",
      "50%      117.000000\n",
      "75%      140.250000\n",
      "max      199.000000\n",
      "Name: Glucose, dtype: float64\n"
     ]
    }
   ],
   "source": [
    "print (\"median  \", patients.Glucose.median())\n",
    "print (patients.Glucose.describe())"
   ]
  },
  {
   "cell_type": "code",
   "execution_count": 7,
   "metadata": {
    "collapsed": false
   },
   "outputs": [
    {
     "name": "stdout",
     "output_type": "stream",
     "text": [
      "median   72.0\n",
      "count    768.000000\n",
      "mean      69.105469\n",
      "std       19.355807\n",
      "min        0.000000\n",
      "25%       62.000000\n",
      "50%       72.000000\n",
      "75%       80.000000\n",
      "max      122.000000\n",
      "Name: BloodPressure, dtype: float64\n"
     ]
    }
   ],
   "source": [
    "print (\"median  \", patients.BloodPressure.median())\n",
    "print (patients.BloodPressure.describe())"
   ]
  },
  {
   "cell_type": "code",
   "execution_count": 8,
   "metadata": {
    "collapsed": false
   },
   "outputs": [
    {
     "name": "stdout",
     "output_type": "stream",
     "text": [
      "median   23.0\n",
      "count    768.000000\n",
      "mean      20.536458\n",
      "std       15.952218\n",
      "min        0.000000\n",
      "25%        0.000000\n",
      "50%       23.000000\n",
      "75%       32.000000\n",
      "max       99.000000\n",
      "Name: SkinThickness, dtype: float64\n"
     ]
    }
   ],
   "source": [
    "print (\"median  \", patients.SkinThickness.median())\n",
    "print (patients.SkinThickness.describe())"
   ]
  },
  {
   "cell_type": "code",
   "execution_count": 9,
   "metadata": {
    "collapsed": false
   },
   "outputs": [
    {
     "name": "stdout",
     "output_type": "stream",
     "text": [
      "median   30.5\n",
      "count    768.000000\n",
      "mean      79.799479\n",
      "std      115.244002\n",
      "min        0.000000\n",
      "25%        0.000000\n",
      "50%       30.500000\n",
      "75%      127.250000\n",
      "max      846.000000\n",
      "Name: Insulin, dtype: float64\n"
     ]
    }
   ],
   "source": [
    "print (\"median  \", patients.Insulin.median())\n",
    "print (patients.Insulin.describe())"
   ]
  },
  {
   "cell_type": "code",
   "execution_count": 10,
   "metadata": {
    "collapsed": false
   },
   "outputs": [
    {
     "name": "stdout",
     "output_type": "stream",
     "text": [
      "median   32.0\n",
      "count    768.000000\n",
      "mean      31.992578\n",
      "std        7.884160\n",
      "min        0.000000\n",
      "25%       27.300000\n",
      "50%       32.000000\n",
      "75%       36.600000\n",
      "max       67.100000\n",
      "Name: BMI, dtype: float64\n"
     ]
    }
   ],
   "source": [
    "print (\"median  \", patients.BMI.median())\n",
    "print (patients.BMI.describe())"
   ]
  },
  {
   "cell_type": "code",
   "execution_count": 11,
   "metadata": {
    "collapsed": false
   },
   "outputs": [
    {
     "name": "stdout",
     "output_type": "stream",
     "text": [
      "median   0.3725\n",
      "count    768.000000\n",
      "mean       0.471876\n",
      "std        0.331329\n",
      "min        0.078000\n",
      "25%        0.243750\n",
      "50%        0.372500\n",
      "75%        0.626250\n",
      "max        2.420000\n",
      "Name: Pedigree, dtype: float64\n"
     ]
    }
   ],
   "source": [
    "print (\"median  \", patients.Pedigree.median())\n",
    "print (patients.Pedigree.describe())"
   ]
  },
  {
   "cell_type": "code",
   "execution_count": 12,
   "metadata": {
    "collapsed": false
   },
   "outputs": [
    {
     "name": "stdout",
     "output_type": "stream",
     "text": [
      "median   29.0\n",
      "count    768.000000\n",
      "mean      33.240885\n",
      "std       11.760232\n",
      "min       21.000000\n",
      "25%       24.000000\n",
      "50%       29.000000\n",
      "75%       41.000000\n",
      "max       81.000000\n",
      "Name: Age, dtype: float64\n"
     ]
    }
   ],
   "source": [
    "print (\"median  \", patients.Age.median())\n",
    "print (patients.Age.describe())"
   ]
  },
  {
   "cell_type": "markdown",
   "metadata": {},
   "source": [
    "Number of observations for each variable is the same which is 768. "
   ]
  },
  {
   "cell_type": "markdown",
   "metadata": {},
   "source": [
    "<b>D</b>"
   ]
  },
  {
   "cell_type": "code",
   "execution_count": 13,
   "metadata": {
    "collapsed": false
   },
   "outputs": [
    {
     "data": {
      "text/plain": [
       "Pregnancies       0.000\n",
       "Glucose           0.000\n",
       "BloodPressure     0.000\n",
       "SkinThickness     0.000\n",
       "Insulin           0.000\n",
       "BMI               0.000\n",
       "Pedigree          0.078\n",
       "Age              21.000\n",
       "Diagnosis         0.000\n",
       "dtype: float64"
      ]
     },
     "execution_count": 13,
     "metadata": {},
     "output_type": "execute_result"
    }
   ],
   "source": [
    "patients.min()"
   ]
  },
  {
   "cell_type": "code",
   "execution_count": 14,
   "metadata": {
    "collapsed": false
   },
   "outputs": [],
   "source": [
    "def fill_missing_glucose(value):\n",
    "    \n",
    "    if value == 0:\n",
    "        return 117\n",
    "    else:\n",
    "        return value\n",
    "    \n",
    "patients['Glucose']=patients.apply(lambda row:fill_missing_glucose(row['Glucose']), axis=1)"
   ]
  },
  {
   "cell_type": "code",
   "execution_count": 15,
   "metadata": {
    "collapsed": false
   },
   "outputs": [
    {
     "data": {
      "text/plain": [
       "44.0"
      ]
     },
     "execution_count": 15,
     "metadata": {},
     "output_type": "execute_result"
    }
   ],
   "source": [
    "patients.Glucose.min()"
   ]
  },
  {
   "cell_type": "code",
   "execution_count": 16,
   "metadata": {
    "collapsed": true
   },
   "outputs": [],
   "source": [
    "def fill_missing_bp(value):\n",
    "    \n",
    "    if value == 0:\n",
    "        return 72\n",
    "    else:\n",
    "        return value\n",
    "    \n",
    "patients['BloodPressure']=patients.apply(lambda row:fill_missing_glucose(row['BloodPressure']), axis=1)"
   ]
  },
  {
   "cell_type": "code",
   "execution_count": 17,
   "metadata": {
    "collapsed": true
   },
   "outputs": [],
   "source": [
    "def fill_missing_st(value):\n",
    "    \n",
    "    if value == 0:\n",
    "        return 23\n",
    "    else:\n",
    "        return value\n",
    "    \n",
    "patients['SkinThickness']=patients.apply(lambda row:fill_missing_glucose(row['SkinThickness']), axis=1)"
   ]
  },
  {
   "cell_type": "code",
   "execution_count": 18,
   "metadata": {
    "collapsed": true
   },
   "outputs": [],
   "source": [
    "def fill_missing_insulin(value):\n",
    "    \n",
    "    if value == 0:\n",
    "        return 30.5\n",
    "    else:\n",
    "        return value\n",
    "    \n",
    "patients['Insulin']=patients.apply(lambda row:fill_missing_glucose(row['Insulin']), axis=1)"
   ]
  },
  {
   "cell_type": "code",
   "execution_count": 19,
   "metadata": {
    "collapsed": true
   },
   "outputs": [],
   "source": [
    "def fill_missing_bmi(value):\n",
    "    \n",
    "    if value == 0:\n",
    "        return 32\n",
    "    else:\n",
    "        return value\n",
    "    \n",
    "patients['BMI']=patients.apply(lambda row:fill_missing_glucose(row['BMI']), axis=1)"
   ]
  },
  {
   "cell_type": "code",
   "execution_count": 20,
   "metadata": {
    "collapsed": true
   },
   "outputs": [],
   "source": [
    "def fill_missing_Pedigree(value):\n",
    "    \n",
    "    if value == 0:\n",
    "        return 0.3725\n",
    "    else:\n",
    "        return value\n",
    "    \n",
    "patients['Pedigree']=patients.apply(lambda row:fill_missing_glucose(row['Pedigree']), axis=1)"
   ]
  },
  {
   "cell_type": "markdown",
   "metadata": {},
   "source": [
    "<b>E</b>"
   ]
  },
  {
   "cell_type": "code",
   "execution_count": 40,
   "metadata": {
    "collapsed": false
   },
   "outputs": [
    {
     "data": {
      "text/plain": [
       "0.25     99.75\n",
       "0.75    140.25\n",
       "Name: Glucose, dtype: float64"
      ]
     },
     "execution_count": 40,
     "metadata": {},
     "output_type": "execute_result"
    }
   ],
   "source": [
    "g_outliers = patients.Glucose.quantile([0.25, 0.75])\n",
    "g_outliers"
   ]
  },
  {
   "cell_type": "code",
   "execution_count": 21,
   "metadata": {
    "collapsed": false
   },
   "outputs": [],
   "source": [
    "outliers=[]\n",
    "median = patients.Glucose.median()\n",
    "def detectFill_outliers_g(value):\n",
    "    \n",
    "    if value < 99.75 or value > 140.25:\n",
    "        outliers.append(value)\n",
    "        return median\n",
    "    else:\n",
    "        return value\n",
    "    \n",
    "patients['Glucose']=patients.apply(lambda row:detectFill_outliers_g(row['Glucose']), axis=1)\n",
    "\n",
    "if (len(outliers) > 0):\n",
    "    print(\"outlier list: \", outliers)\n",
    "else:\n",
    "    print(\"No outliers in the column.\")"
   ]
  },
  {
   "cell_type": "code",
   "execution_count": 38,
   "metadata": {
    "collapsed": false
   },
   "outputs": [
    {
     "data": {
      "text/plain": [
       "0.25    64.0\n",
       "0.75    82.0\n",
       "Name: BloodPressure, dtype: float64"
      ]
     },
     "execution_count": 38,
     "metadata": {},
     "output_type": "execute_result"
    }
   ],
   "source": [
    "bp_outliers = patients.BloodPressure.quantile([0.25, 0.75])\n",
    "bp_outliers"
   ]
  },
  {
   "cell_type": "code",
   "execution_count": 39,
   "metadata": {
    "collapsed": false
   },
   "outputs": [
    {
     "name": "stdout",
     "output_type": "stream",
     "text": [
      "outlier list:  [40.0, 50.0, 117.0, 96.0, 92.0, 60.0, 117.0, 84.0, 30.0, 88.0, 84.0, 90.0, 94.0, 92.0, 58.0, 92.0, 60.0, 84.0, 92.0, 110.0, 56.0, 117.0, 50.0, 90.0, 50.0, 88.0, 117.0, 62.0, 58.0, 88.0, 92.0, 85.0, 90.0, 86.0, 48.0, 117.0, 44.0, 117.0, 108.0, 55.0, 62.0, 48.0, 50.0, 90.0, 60.0, 96.0, 56.0, 122.0, 58.0, 58.0, 85.0, 62.0, 62.0, 54.0, 92.0, 48.0, 60.0, 30.0, 58.0, 88.0, 84.0, 56.0, 60.0, 60.0, 52.0, 62.0, 86.0, 88.0, 52.0, 56.0, 90.0, 88.0, 90.0, 117.0, 60.0, 110.0, 60.0, 98.0, 62.0, 117.0, 55.0, 84.0, 58.0, 62.0, 60.0, 104.0, 84.0, 60.0, 85.0, 95.0, 62.0, 60.0, 90.0, 117.0, 60.0, 52.0, 86.0, 84.0, 90.0, 84.0, 54.0, 50.0, 85.0, 90.0, 86.0, 52.0, 84.0, 62.0, 56.0, 50.0, 117.0, 62.0, 117.0, 52.0, 117.0, 86.0, 62.0, 60.0, 62.0, 88.0, 86.0, 84.0, 86.0, 56.0, 88.0, 62.0, 48.0, 50.0, 62.0, 84.0, 117.0, 58.0, 98.0, 50.0, 60.0, 90.0, 86.0, 58.0, 117.0, 60.0, 117.0, 84.0, 86.0, 88.0, 46.0, 117.0, 62.0, 84.0, 62.0, 88.0, 50.0, 117.0, 108.0, 54.0, 86.0, 102.0, 58.0, 52.0, 60.0, 100.0, 60.0, 62.0, 54.0, 100.0, 58.0, 56.0, 61.0, 84.0, 48.0, 62.0, 90.0, 84.0, 60.0, 84.0, 88.0, 117.0, 94.0, 117.0, 117.0, 85.0, 88.0, 104.0, 62.0, 117.0, 54.0, 62.0, 54.0, 84.0, 62.0, 98.0, 56.0, 52.0, 117.0, 90.0, 84.0, 86.0, 88.0, 58.0, 117.0, 62.0, 90.0, 117.0, 90.0, 90.0, 60.0, 50.0, 62.0, 62.0, 54.0, 88.0, 86.0, 60.0, 90.0, 117.0, 58.0, 60.0, 60.0, 117.0, 56.0, 117.0, 90.0, 60.0, 92.0, 85.0, 90.0, 90.0, 110.0, 88.0, 62.0, 60.0, 54.0, 62.0, 96.0, 58.0, 60.0, 86.0, 44.0, 44.0, 90.0, 60.0, 56.0, 86.0, 117.0, 84.0, 52.0, 24.0, 38.0, 88.0, 117.0, 117.0, 60.0, 62.0, 62.0, 54.0, 58.0, 88.0, 96.0, 62.0, 117.0, 86.0, 94.0, 88.0, 60.0, 62.0, 86.0, 117.0, 50.0, 84.0, 60.0, 54.0, 60.0, 54.0, 52.0, 58.0, 106.0, 84.0, 106.0, 60.0, 58.0, 58.0, 106.0, 100.0, 86.0, 60.0, 52.0, 58.0, 56.0, 50.0, 114.0, 60.0, 90.0, 117.0, 88.0, 88.0, 117.0, 117.0, 46.0, 62.0, 58.0, 50.0, 60.0, 86.0, 86.0, 94.0, 84.0, 88.0, 52.0, 86.0, 88.0, 56.0, 60.0, 86.0, 60.0, 44.0, 58.0, 94.0, 88.0, 84.0, 94.0, 62.0, 62.0, 88.0, 88.0, 90.0, 92.0, 58.0, 62.0, 60.0]\n"
     ]
    }
   ],
   "source": [
    "outliers=[]\n",
    "median = patients.BloodPressure.median()\n",
    "def detectFill_outliers_bp(value):\n",
    "    \n",
    "    if value < 64 or value > 82:\n",
    "        outliers.append(value)\n",
    "        return median\n",
    "    else:\n",
    "        return value\n",
    "    \n",
    "patients['BloodPressure']=patients.apply(lambda row:detectFill_outliers_bp(row['BloodPressure']), axis=1)\n",
    "\n",
    "if (len(outliers) > 0):\n",
    "    print(\"outlier list: \", outliers)\n",
    "else:\n",
    "    print(\"No outliers in the column.\")"
   ]
  },
  {
   "cell_type": "code",
   "execution_count": 24,
   "metadata": {
    "collapsed": false
   },
   "outputs": [
    {
     "data": {
      "text/plain": [
       "0.25    1.0\n",
       "0.75    6.0\n",
       "Name: Pregnancies, dtype: float64"
      ]
     },
     "execution_count": 24,
     "metadata": {},
     "output_type": "execute_result"
    }
   ],
   "source": [
    "preg_outliers = patients.Pregnancies.quantile([0.25, 0.75])\n",
    "preg_outliers"
   ]
  },
  {
   "cell_type": "code",
   "execution_count": 25,
   "metadata": {
    "collapsed": false
   },
   "outputs": [
    {
     "name": "stdout",
     "output_type": "stream",
     "text": [
      "Pregnancies outlier list:  [1.0, 1.0, 0.0, 10.0, 10.0, 10.0, 1.0, 0.0, 1.0, 1.0, 11.0, 10.0, 1.0, 13.0, 10.0, 11.0, 0.0, 1.0, 1.0, 1.0, 1.0, 0.0, 0.0, 0.0, 0.0, 1.0, 13.0, 1.0, 1.0, 0.0, 0.0, 13.0, 15.0, 1.0, 1.0, 1.0, 1.0, 1.0, 1.0, 0.0, 1.0, 1.0, 1.0, 0.0, 1.0, 0.0, 0.0, 1.0, 1.0, 1.0, 0.0, 0.0, 0.0, 0.0, 10.0, 0.0, 1.0, 1.0, 1.0, 17.0, 0.0, 0.0, 1.0, 0.0, 0.0, 1.0, 1.0, 11.0, 1.0, 0.0, 1.0, 0.0, 1.0, 0.0, 0.0, 12.0, 0.0, 1.0, 1.0, 0.0, 0.0, 1.0, 0.0, 0.0, 1.0, 10.0, 0.0, 1.0, 0.0, 12.0, 1.0, 1.0, 11.0, 0.0, 0.0, 10.0, 1.0, 13.0, 0.0, 0.0, 10.0, 1.0, 0.0, 0.0, 1.0, 0.0, 0.0, 14.0, 0.0, 10.0, 0.0, 0.0, 0.0, 0.0, 13.0, 1.0, 1.0, 10.0, 1.0, 12.0, 1.0, 0.0, 0.0, 1.0, 1.0, 1.0, 1.0, 1.0, 1.0, 13.0, 12.0, 1.0, 0.0, 1.0, 0.0, 0.0, 12.0, 0.0, 1.0, 0.0, 1.0, 0.0, 1.0, 1.0, 1.0, 1.0, 1.0, 1.0, 0.0, 0.0, 1.0, 1.0, 1.0, 1.0, 0.0, 1.0, 1.0, 1.0, 0.0, 0.0, 1.0, 0.0, 1.0, 1.0, 1.0, 0.0, 12.0, 1.0, 0.0, 0.0, 1.0, 0.0, 0.0, 0.0, 1.0, 0.0, 14.0, 1.0, 10.0, 1.0, 10.0, 0.0, 0.0, 0.0, 1.0, 0.0, 0.0, 0.0, 0.0, 0.0, 0.0, 0.0, 1.0, 0.0, 10.0, 0.0, 1.0, 12.0, 0.0, 13.0, 1.0, 0.0, 0.0, 0.0, 1.0, 1.0, 0.0, 0.0, 0.0, 10.0, 1.0, 1.0, 1.0, 1.0, 1.0, 1.0, 11.0, 11.0, 0.0, 1.0, 0.0, 1.0, 0.0, 1.0, 1.0, 10.0, 0.0, 12.0, 1.0, 0.0, 11.0, 0.0, 0.0, 1.0, 1.0, 1.0, 1.0, 1.0, 1.0, 1.0, 1.0, 0.0, 1.0, 11.0, 0.0, 0.0, 0.0, 0.0, 0.0, 1.0, 10.0, 13.0, 1.0, 0.0, 1.0, 0.0, 11.0, 0.0, 1.0, 1.0, 1.0, 1.0, 11.0, 10.0, 1.0, 1.0, 10.0, 1.0, 10.0, 0.0, 0.0, 0.0, 1.0, 1.0, 1.0, 13.0, 0.0, 1.0, 10.0, 10.0, 0.0, 10.0, 1.0, 1.0, 1.0, 1.0, 1.0, 0.0, 0.0, 1.0, 11.0, 1.0, 13.0, 12.0, 1.0, 1.0, 1.0, 0.0, 1.0, 0.0, 1.0, 10.0, 1.0, 1.0]\n"
     ]
    }
   ],
   "source": [
    "outliers=[]\n",
    "median = patients.Pregnancies.median()\n",
    "def detectFill_outliers_pregnancies(value):\n",
    "    \n",
    "    if value < 2 or value > 9:\n",
    "        outliers.append(value)\n",
    "        return median\n",
    "    else:\n",
    "        return value\n",
    "    \n",
    "patients['Pregnancies']=patients.apply(lambda row:detectFill_outliers_pregnancies(row['Pregnancies']), axis=1)\n",
    "\n",
    "if (len(outliers) > 0):\n",
    "    print(\"Pregnancies outlier list: \", outliers)\n",
    "else:\n",
    "    print(\"No outliers in Pregnancies column.\")"
   ]
  },
  {
   "cell_type": "code",
   "execution_count": 26,
   "metadata": {
    "collapsed": false
   },
   "outputs": [
    {
     "data": {
      "text/plain": [
       "9.0"
      ]
     },
     "execution_count": 26,
     "metadata": {},
     "output_type": "execute_result"
    }
   ],
   "source": [
    "patients.Pregnancies.max()"
   ]
  },
  {
   "cell_type": "code",
   "execution_count": 27,
   "metadata": {
    "collapsed": false
   },
   "outputs": [
    {
     "data": {
      "text/html": [
       "<div>\n",
       "<table border=\"1\" class=\"dataframe\">\n",
       "  <thead>\n",
       "    <tr style=\"text-align: right;\">\n",
       "      <th></th>\n",
       "      <th>Pregnancies</th>\n",
       "      <th>Glucose</th>\n",
       "      <th>BloodPressure</th>\n",
       "      <th>SkinThickness</th>\n",
       "      <th>Insulin</th>\n",
       "      <th>BMI</th>\n",
       "      <th>Pedigree</th>\n",
       "      <th>Age</th>\n",
       "      <th>Diagnosis</th>\n",
       "    </tr>\n",
       "  </thead>\n",
       "  <tbody>\n",
       "    <tr>\n",
       "      <th>count</th>\n",
       "      <td>768.000000</td>\n",
       "      <td>768.000000</td>\n",
       "      <td>768.000000</td>\n",
       "      <td>768.000000</td>\n",
       "      <td>768.000000</td>\n",
       "      <td>768.000000</td>\n",
       "      <td>768.000000</td>\n",
       "      <td>768.000000</td>\n",
       "      <td>768.000000</td>\n",
       "    </tr>\n",
       "    <tr>\n",
       "      <th>mean</th>\n",
       "      <td>3.998698</td>\n",
       "      <td>121.656250</td>\n",
       "      <td>74.437500</td>\n",
       "      <td>55.118490</td>\n",
       "      <td>136.776042</td>\n",
       "      <td>33.668359</td>\n",
       "      <td>0.471876</td>\n",
       "      <td>33.240885</td>\n",
       "      <td>0.348958</td>\n",
       "    </tr>\n",
       "    <tr>\n",
       "      <th>std</th>\n",
       "      <td>1.897297</td>\n",
       "      <td>30.438286</td>\n",
       "      <td>15.262202</td>\n",
       "      <td>41.062553</td>\n",
       "      <td>87.179770</td>\n",
       "      <td>12.178062</td>\n",
       "      <td>0.331329</td>\n",
       "      <td>11.760232</td>\n",
       "      <td>0.476951</td>\n",
       "    </tr>\n",
       "    <tr>\n",
       "      <th>min</th>\n",
       "      <td>2.000000</td>\n",
       "      <td>44.000000</td>\n",
       "      <td>24.000000</td>\n",
       "      <td>7.000000</td>\n",
       "      <td>14.000000</td>\n",
       "      <td>18.200000</td>\n",
       "      <td>0.078000</td>\n",
       "      <td>21.000000</td>\n",
       "      <td>0.000000</td>\n",
       "    </tr>\n",
       "    <tr>\n",
       "      <th>25%</th>\n",
       "      <td>3.000000</td>\n",
       "      <td>99.750000</td>\n",
       "      <td>64.000000</td>\n",
       "      <td>25.000000</td>\n",
       "      <td>117.000000</td>\n",
       "      <td>27.500000</td>\n",
       "      <td>0.243750</td>\n",
       "      <td>24.000000</td>\n",
       "      <td>0.000000</td>\n",
       "    </tr>\n",
       "    <tr>\n",
       "      <th>50%</th>\n",
       "      <td>3.000000</td>\n",
       "      <td>117.000000</td>\n",
       "      <td>73.000000</td>\n",
       "      <td>35.000000</td>\n",
       "      <td>117.000000</td>\n",
       "      <td>32.400000</td>\n",
       "      <td>0.372500</td>\n",
       "      <td>29.000000</td>\n",
       "      <td>0.000000</td>\n",
       "    </tr>\n",
       "    <tr>\n",
       "      <th>75%</th>\n",
       "      <td>5.000000</td>\n",
       "      <td>140.250000</td>\n",
       "      <td>82.000000</td>\n",
       "      <td>117.000000</td>\n",
       "      <td>127.250000</td>\n",
       "      <td>36.825000</td>\n",
       "      <td>0.626250</td>\n",
       "      <td>41.000000</td>\n",
       "      <td>1.000000</td>\n",
       "    </tr>\n",
       "    <tr>\n",
       "      <th>max</th>\n",
       "      <td>9.000000</td>\n",
       "      <td>199.000000</td>\n",
       "      <td>122.000000</td>\n",
       "      <td>117.000000</td>\n",
       "      <td>846.000000</td>\n",
       "      <td>117.000000</td>\n",
       "      <td>2.420000</td>\n",
       "      <td>81.000000</td>\n",
       "      <td>1.000000</td>\n",
       "    </tr>\n",
       "  </tbody>\n",
       "</table>\n",
       "</div>"
      ],
      "text/plain": [
       "       Pregnancies     Glucose  BloodPressure  SkinThickness     Insulin  \\\n",
       "count   768.000000  768.000000     768.000000     768.000000  768.000000   \n",
       "mean      3.998698  121.656250      74.437500      55.118490  136.776042   \n",
       "std       1.897297   30.438286      15.262202      41.062553   87.179770   \n",
       "min       2.000000   44.000000      24.000000       7.000000   14.000000   \n",
       "25%       3.000000   99.750000      64.000000      25.000000  117.000000   \n",
       "50%       3.000000  117.000000      73.000000      35.000000  117.000000   \n",
       "75%       5.000000  140.250000      82.000000     117.000000  127.250000   \n",
       "max       9.000000  199.000000     122.000000     117.000000  846.000000   \n",
       "\n",
       "              BMI    Pedigree         Age   Diagnosis  \n",
       "count  768.000000  768.000000  768.000000  768.000000  \n",
       "mean    33.668359    0.471876   33.240885    0.348958  \n",
       "std     12.178062    0.331329   11.760232    0.476951  \n",
       "min     18.200000    0.078000   21.000000    0.000000  \n",
       "25%     27.500000    0.243750   24.000000    0.000000  \n",
       "50%     32.400000    0.372500   29.000000    0.000000  \n",
       "75%     36.825000    0.626250   41.000000    1.000000  \n",
       "max    117.000000    2.420000   81.000000    1.000000  "
      ]
     },
     "execution_count": 27,
     "metadata": {},
     "output_type": "execute_result"
    }
   ],
   "source": [
    "patients.describe()"
   ]
  },
  {
   "cell_type": "code",
   "execution_count": 42,
   "metadata": {
    "collapsed": false
   },
   "outputs": [
    {
     "data": {
      "text/plain": [
       "0.25     25.0\n",
       "0.75    117.0\n",
       "Name: SkinThickness, dtype: float64"
      ]
     },
     "execution_count": 42,
     "metadata": {},
     "output_type": "execute_result"
    }
   ],
   "source": [
    "st_outliers = patients.SkinThickness.quantile([0.25, 0.75])\n",
    "st_outliers"
   ]
  },
  {
   "cell_type": "code",
   "execution_count": 29,
   "metadata": {
    "collapsed": false
   },
   "outputs": [
    {
     "name": "stdout",
     "output_type": "stream",
     "text": [
      "No outliers in Skin Thickness column.\n"
     ]
    }
   ],
   "source": [
    "outliers=[]\n",
    "\n",
    "def detectFill_outliers(value):\n",
    "       \n",
    "    if if value < 25 or value > 117:\n",
    "        outliers.append(value)\n",
    "        return patients.SkinThickness.median()\n",
    "    else:\n",
    "        return value\n",
    "    \n",
    "patients['SkinThickness']=patients.apply(lambda row:detectFill_outliers(row['SkinThickness']), axis=1)\n",
    "\n",
    "if (len(outliers) > 0):\n",
    "    print(\"Skin Thickness outlier list: \", outliers)\n",
    "else:\n",
    "    print(\"No outliers in Skin Thickness column.\")"
   ]
  },
  {
   "cell_type": "code",
   "execution_count": 43,
   "metadata": {
    "collapsed": false
   },
   "outputs": [
    {
     "data": {
      "text/plain": [
       "0.25    117.00\n",
       "0.75    127.25\n",
       "Name: Insulin, dtype: float64"
      ]
     },
     "execution_count": 43,
     "metadata": {},
     "output_type": "execute_result"
    }
   ],
   "source": [
    "i_outliers = patients.Insulin.quantile([0.25, 0.75])\n",
    "i_outliers"
   ]
  },
  {
   "cell_type": "code",
   "execution_count": 46,
   "metadata": {
    "collapsed": false
   },
   "outputs": [
    {
     "name": "stdout",
     "output_type": "stream",
     "text": [
      "Insulin outlier list:  [94.0, 168.0, 88.0, 543.0, 846.0, 175.0, 230.0, 83.0, 96.0, 235.0, 146.0, 115.0, 140.0, 110.0, 245.0, 54.0, 192.0, 207.0, 70.0, 240.0, 82.0, 36.0, 23.0, 300.0, 342.0, 304.0, 110.0, 142.0, 128.0, 38.0, 100.0, 90.0, 140.0, 270.0, 71.0, 71.0, 110.0, 176.0, 48.0, 64.0, 228.0, 76.0, 64.0, 220.0, 40.0, 152.0, 140.0, 18.0, 36.0, 135.0, 495.0, 37.0, 175.0, 51.0, 100.0, 100.0, 99.0, 135.0, 94.0, 145.0, 168.0, 225.0, 49.0, 140.0, 50.0, 92.0, 325.0, 63.0, 284.0, 204.0, 155.0, 485.0, 94.0, 135.0, 53.0, 114.0, 105.0, 285.0, 156.0, 78.0, 130.0, 48.0, 55.0, 130.0, 130.0, 92.0, 23.0, 495.0, 58.0, 114.0, 160.0, 94.0, 210.0, 48.0, 99.0, 318.0, 44.0, 190.0, 280.0, 87.0, 130.0, 175.0, 271.0, 129.0, 478.0, 190.0, 56.0, 32.0, 744.0, 53.0, 370.0, 37.0, 45.0, 192.0, 88.0, 176.0, 194.0, 680.0, 402.0, 55.0, 258.0, 375.0, 150.0, 130.0, 67.0, 56.0, 45.0, 57.0, 116.0, 278.0, 155.0, 135.0, 545.0, 220.0, 49.0, 75.0, 40.0, 74.0, 182.0, 194.0, 360.0, 215.0, 184.0, 135.0, 42.0, 105.0, 132.0, 148.0, 180.0, 205.0, 148.0, 96.0, 85.0, 94.0, 64.0, 140.0, 231.0, 29.0, 168.0, 156.0, 68.0, 52.0, 58.0, 255.0, 171.0, 105.0, 73.0, 108.0, 83.0, 74.0, 43.0, 167.0, 54.0, 249.0, 325.0, 293.0, 83.0, 66.0, 140.0, 465.0, 89.0, 66.0, 94.0, 158.0, 325.0, 84.0, 75.0, 72.0, 82.0, 182.0, 59.0, 110.0, 50.0, 285.0, 81.0, 196.0, 415.0, 87.0, 275.0, 115.0, 88.0, 165.0, 579.0, 176.0, 310.0, 61.0, 167.0, 474.0, 115.0, 170.0, 76.0, 78.0, 210.0, 277.0, 180.0, 145.0, 180.0, 85.0, 60.0, 50.0, 14.0, 70.0, 92.0, 64.0, 63.0, 95.0, 210.0, 105.0, 71.0, 237.0, 60.0, 56.0, 49.0, 105.0, 36.0, 100.0, 140.0, 191.0, 110.0, 75.0, 328.0, 49.0, 250.0, 480.0, 265.0, 66.0, 76.0, 145.0, 193.0, 71.0, 79.0, 90.0, 170.0, 76.0, 210.0, 86.0, 105.0, 165.0, 326.0, 66.0, 130.0, 82.0, 105.0, 188.0, 106.0, 65.0, 56.0, 210.0, 155.0, 215.0, 190.0, 56.0, 76.0, 225.0, 207.0, 166.0, 67.0, 106.0, 44.0, 115.0, 215.0, 274.0, 77.0, 54.0, 88.0, 18.0, 165.0, 44.0, 330.0, 63.0, 130.0, 600.0, 156.0, 140.0, 115.0, 230.0, 185.0, 25.0, 293.0, 41.0, 272.0, 182.0, 158.0, 194.0, 321.0, 144.0, 15.0, 160.0, 115.0, 54.0, 90.0, 183.0, 66.0, 91.0, 46.0, 105.0, 152.0, 440.0, 144.0, 159.0, 130.0, 100.0, 106.0, 77.0, 135.0, 540.0, 90.0, 200.0, 70.0, 231.0, 130.0, 132.0, 190.0, 100.0, 168.0, 49.0, 240.0, 265.0, 45.0, 105.0, 205.0, 180.0, 180.0, 95.0, 480.0, 155.0, 200.0, 100.0, 335.0, 160.0, 387.0, 22.0, 291.0, 392.0, 185.0, 178.0, 200.0, 105.0, 180.0, 79.0, 165.0, 160.0, 150.0, 94.0, 116.0, 140.0, 105.0, 57.0, 200.0, 74.0, 510.0, 110.0, 16.0, 180.0, 112.0]\n"
     ]
    }
   ],
   "source": [
    "outliers=[]\n",
    "    \n",
    "def detectFill_outliers(value):\n",
    "       \n",
    "    if value < 117 or value > 127.25:\n",
    "        outliers.append(value)\n",
    "        return patients.Insulin.median()\n",
    "    else:\n",
    "        return value\n",
    "    \n",
    "\n",
    "    \n",
    "patients['Insulin']=patients.apply(lambda row:detectFill_outliers(row['Insulin']), axis=1)\n",
    "\n",
    "if (len(outliers) > 0):\n",
    "    print(\"Insulin outlier list: \", outliers)\n",
    "else:\n",
    "    print(\"No outliers in Insulin column.\")"
   ]
  },
  {
   "cell_type": "code",
   "execution_count": null,
   "metadata": {
    "collapsed": true
   },
   "outputs": [],
   "source": []
  },
  {
   "cell_type": "code",
   "execution_count": 31,
   "metadata": {
    "collapsed": false
   },
   "outputs": [
    {
     "name": "stdout",
     "output_type": "stream",
     "text": [
      "No outliers in BMI column.\n"
     ]
    }
   ],
   "source": [
    "outliers=[]\n",
    "\n",
    "    \n",
    "def detectFill_outliers(value):\n",
    "       \n",
    "    if value < 117 or value > 127.25:\n",
    "        outliers.append(value)\n",
    "        return patients.Insulin.median()\n",
    "    else:\n",
    "        return value\n",
    "    \n",
    "\n",
    "    \n",
    "patients['BMI']=patients.apply(lambda row:detectFill_outliers(row['BMi']), axis=1)\n",
    "if (len(outliers) > 0):\n",
    "    print(\"BMI outlier list: \", outliers)\n",
    "else:\n",
    "    print(\"No outliers in BMI column.\")"
   ]
  },
  {
   "cell_type": "code",
   "execution_count": 32,
   "metadata": {
    "collapsed": false
   },
   "outputs": [
    {
     "name": "stdout",
     "output_type": "stream",
     "text": [
      "No outliers in Pedigree column.\n"
     ]
    }
   ],
   "source": [
    "outliers=[]\n",
    "\n",
    "def detectFill_outliers_pedigree(value):\n",
    "    \n",
    "    z_score = (value-patients.Pedigree.mean())/patients.Pedigree.std()\n",
    "    \n",
    "    if abs(z_score) > 3:\n",
    "        outliers.append(value)\n",
    "        return patients.Pedigree.median()\n",
    "    else:\n",
    "        return value\n",
    "    \n",
    "patients['Pedigree']=patients.apply(lambda row:fill_missing_glucose(row['Pedigree']), axis=1)\n",
    "\n",
    "if (len(outliers) > 0):\n",
    "    print(\"Pedigree outlier list: \", outliers)\n",
    "else:\n",
    "    print(\"No outliers in Pedigree column.\")"
   ]
  },
  {
   "cell_type": "code",
   "execution_count": 33,
   "metadata": {
    "collapsed": false
   },
   "outputs": [
    {
     "name": "stdout",
     "output_type": "stream",
     "text": [
      "No outliers in Age column.\n"
     ]
    }
   ],
   "source": [
    "outliers=[]\n",
    "\n",
    "def detectFill_outliers_age(value):\n",
    "    \n",
    "    z_score = (value-patients.Age.mean)/patients.Age.std()\n",
    "    \n",
    "    if abs(z_score) > 3:\n",
    "        outliers.append(value)\n",
    "        return patients.Age.median()\n",
    "    else:\n",
    "        return value\n",
    "    \n",
    "patients['Age']=patients.apply(lambda row:fill_missing_glucose(row['Age']), axis=1)\n",
    "\n",
    "if (len(outliers) > 0):\n",
    "    print(\"Age outlier list: \", outliers)\n",
    "else:\n",
    "    print(\"No outliers in Age column.\")"
   ]
  },
  {
   "cell_type": "markdown",
   "metadata": {},
   "source": [
    "<b>F</b>"
   ]
  },
  {
   "cell_type": "markdown",
   "metadata": {},
   "source": [
    "Since There were no outliers detected using the z score method, no values were replaced with the median."
   ]
  },
  {
   "cell_type": "markdown",
   "metadata": {},
   "source": [
    "<b>G</b>"
   ]
  },
  {
   "cell_type": "code",
   "execution_count": 34,
   "metadata": {
    "collapsed": true
   },
   "outputs": [],
   "source": [
    "%matplotlib inline\n",
    "rcParams['figure.figsize'] = 5, 4\n",
    "sb.set_style('whitegrid')"
   ]
  },
  {
   "cell_type": "markdown",
   "metadata": {},
   "source": [
    "<b>H</b>"
   ]
  },
  {
   "cell_type": "code",
   "execution_count": 35,
   "metadata": {
    "collapsed": false
   },
   "outputs": [
    {
     "data": {
      "image/png": "[encoded data removed]",
      "text/plain": [
       "<matplotlib.figure.Figure at 0x1f48b309470>"
      ]
     },
     "metadata": {},
     "output_type": "display_data"
    }
   ],
   "source": [
    "plt.rc('grid', linestyle=\"-\")\n",
    "plt.grid(color='0.8')\n",
    "\n",
    "plt.ylabel(\"Frequency\")\n",
    "plt.xlabel(\"Pregnancies\")\n",
    "plt.hist(patients[\"Pregnancies\"])\n",
    "\n",
    "plt.show()"
   ]
  },
  {
   "cell_type": "code",
   "execution_count": 36,
   "metadata": {
    "collapsed": false
   },
   "outputs": [
    {
     "data": {
      "text/plain": [
       "9.0"
      ]
     },
     "execution_count": 36,
     "metadata": {},
     "output_type": "execute_result"
    }
   ],
   "source": [
    "patients.Pregnancies.max()"
   ]
  },
  {
   "cell_type": "code",
   "execution_count": null,
   "metadata": {
    "collapsed": true
   },
   "outputs": [],
   "source": []
  },
  {
   "cell_type": "code",
   "execution_count": null,
   "metadata": {
    "collapsed": true
   },
   "outputs": [],
   "source": []
  },
  {
   "cell_type": "code",
   "execution_count": null,
   "metadata": {
    "collapsed": true
   },
   "outputs": [],
   "source": []
  },
  {
   "cell_type": "code",
   "execution_count": null,
   "metadata": {
    "collapsed": true
   },
   "outputs": [],
   "source": []
  },
  {
   "cell_type": "markdown",
   "metadata": {},
   "source": [
    "<b>CHECKING THE MODEL ASSUMPTIONS</b>"
   ]
  },
  {
   "cell_type": "markdown",
   "metadata": {},
   "source": [
    "<b>CHECKING THE INDEPENDENCE BETWEEN FEATURES</b>"
   ]
  },
  {
   "cell_type": "markdown",
   "metadata": {},
   "source": [
    "It is observed that these two are in fact categorical. They only take set number of positions."
   ]
  },
  {
   "cell_type": "markdown",
   "metadata": {},
   "source": [
    "The value is really close to zero which means there is almost no correlation between the predictors"
   ]
  },
  {
   "cell_type": "markdown",
   "metadata": {},
   "source": [
    "<b>CHECKING FOR MISSING VALUES</b>"
   ]
  },
  {
   "cell_type": "markdown",
   "metadata": {},
   "source": [
    "No missing values"
   ]
  },
  {
   "cell_type": "markdown",
   "metadata": {},
   "source": [
    "<b>MAKING SURE THE TARGET VARIABLE IS BINARY OR ORDINAL</b>"
   ]
  },
  {
   "cell_type": "markdown",
   "metadata": {},
   "source": [
    "It is clear that am is binary because it only has two variables, 0 and 1. So the model assumption needs are met."
   ]
  },
  {
   "cell_type": "markdown",
   "metadata": {},
   "source": [
    "<b>CHECKING IF THE DATASET SIZE IS SUFFICIENT</b>\n",
    "\n",
    "In this case we have two observations so we will need 100 observations, 50 for each variable."
   ]
  },
  {
   "cell_type": "markdown",
   "metadata": {},
   "source": [
    "Now, this dataset only has 32 observations which means our model will not be very reliable."
   ]
  },
  {
   "cell_type": "markdown",
   "metadata": {},
   "source": [
    "<b>DEPLOYING AND EVALUATING THE MODEL</b>\n",
    "\n",
    "Lets scale the dataset first."
   ]
  },
  {
   "cell_type": "markdown",
   "metadata": {},
   "source": [
    "Next, Instantiate Logistic Regression Object"
   ]
  },
  {
   "cell_type": "code",
   "execution_count": 47,
   "metadata": {
    "collapsed": false
   },
   "outputs": [
    {
     "data": {
      "text/html": [
       "<div>\n",
       "<table border=\"1\" class=\"dataframe\">\n",
       "  <thead>\n",
       "    <tr style=\"text-align: right;\">\n",
       "      <th></th>\n",
       "      <th>Pregnancies</th>\n",
       "      <th>Glucose</th>\n",
       "      <th>BloodPressure</th>\n",
       "      <th>SkinThickness</th>\n",
       "      <th>Insulin</th>\n",
       "      <th>BMI</th>\n",
       "      <th>Pedigree</th>\n",
       "      <th>Age</th>\n",
       "      <th>Diagnosis</th>\n",
       "    </tr>\n",
       "  </thead>\n",
       "  <tbody>\n",
       "    <tr>\n",
       "      <th>0</th>\n",
       "      <td>6.0</td>\n",
       "      <td>148.0</td>\n",
       "      <td>72.0</td>\n",
       "      <td>35.0</td>\n",
       "      <td>117.0</td>\n",
       "      <td>33.6</td>\n",
       "      <td>0.627</td>\n",
       "      <td>50.0</td>\n",
       "      <td>1</td>\n",
       "    </tr>\n",
       "    <tr>\n",
       "      <th>1</th>\n",
       "      <td>3.0</td>\n",
       "      <td>85.0</td>\n",
       "      <td>66.0</td>\n",
       "      <td>29.0</td>\n",
       "      <td>117.0</td>\n",
       "      <td>26.6</td>\n",
       "      <td>0.351</td>\n",
       "      <td>31.0</td>\n",
       "      <td>0</td>\n",
       "    </tr>\n",
       "    <tr>\n",
       "      <th>2</th>\n",
       "      <td>8.0</td>\n",
       "      <td>183.0</td>\n",
       "      <td>64.0</td>\n",
       "      <td>117.0</td>\n",
       "      <td>117.0</td>\n",
       "      <td>23.3</td>\n",
       "      <td>0.672</td>\n",
       "      <td>32.0</td>\n",
       "      <td>1</td>\n",
       "    </tr>\n",
       "    <tr>\n",
       "      <th>3</th>\n",
       "      <td>3.0</td>\n",
       "      <td>89.0</td>\n",
       "      <td>66.0</td>\n",
       "      <td>23.0</td>\n",
       "      <td>117.0</td>\n",
       "      <td>28.1</td>\n",
       "      <td>0.167</td>\n",
       "      <td>21.0</td>\n",
       "      <td>0</td>\n",
       "    </tr>\n",
       "    <tr>\n",
       "      <th>4</th>\n",
       "      <td>3.0</td>\n",
       "      <td>137.0</td>\n",
       "      <td>73.0</td>\n",
       "      <td>35.0</td>\n",
       "      <td>117.0</td>\n",
       "      <td>43.1</td>\n",
       "      <td>2.288</td>\n",
       "      <td>33.0</td>\n",
       "      <td>1</td>\n",
       "    </tr>\n",
       "  </tbody>\n",
       "</table>\n",
       "</div>"
      ],
      "text/plain": [
       "   Pregnancies  Glucose  BloodPressure  SkinThickness  Insulin   BMI  \\\n",
       "0          6.0    148.0           72.0           35.0    117.0  33.6   \n",
       "1          3.0     85.0           66.0           29.0    117.0  26.6   \n",
       "2          8.0    183.0           64.0          117.0    117.0  23.3   \n",
       "3          3.0     89.0           66.0           23.0    117.0  28.1   \n",
       "4          3.0    137.0           73.0           35.0    117.0  43.1   \n",
       "\n",
       "   Pedigree   Age  Diagnosis  \n",
       "0     0.627  50.0          1  \n",
       "1     0.351  31.0          0  \n",
       "2     0.672  32.0          1  \n",
       "3     0.167  21.0          0  \n",
       "4     2.288  33.0          1  "
      ]
     },
     "execution_count": 47,
     "metadata": {},
     "output_type": "execute_result"
    }
   ],
   "source": [
    "patients.head()"
   ]
  },
  {
   "cell_type": "code",
   "execution_count": 49,
   "metadata": {
    "collapsed": false
   },
   "outputs": [],
   "source": [
    "patients_data = patients.ix[:, 0:7]\n",
    "patients_data_names = ['pregnancies', 'glucose', 'bp', 'st', 'i', 'bmi', 'p']\n",
    "\n",
    "y = patients.ix[:, 8]"
   ]
  },
  {
   "cell_type": "code",
   "execution_count": 51,
   "metadata": {
    "collapsed": false
   },
   "outputs": [
    {
     "data": {
      "text/plain": [
       "<matplotlib.axes._subplots.AxesSubplot at 0x1f48bdd44e0>"
      ]
     },
     "execution_count": 51,
     "metadata": {},
     "output_type": "execute_result"
    },
    {
     "data": {
      "image/png": "[encoded data removed]",
      "text/plain": [
       "<matplotlib.figure.Figure at 0x1f48bddb630>"
      ]
     },
     "metadata": {},
     "output_type": "display_data"
    }
   ],
   "source": [
    "sb.countplot(x='Diagnosis', data=patients, palette='hls')"
   ]
  },
  {
   "cell_type": "code",
   "execution_count": 52,
   "metadata": {
    "collapsed": true
   },
   "outputs": [],
   "source": [
    "X = scale(patients_data)"
   ]
  },
  {
   "cell_type": "code",
   "execution_count": 53,
   "metadata": {
    "collapsed": false
   },
   "outputs": [
    {
     "data": {
      "text/plain": [
       "0.76302083333333337"
      ]
     },
     "execution_count": 53,
     "metadata": {},
     "output_type": "execute_result"
    }
   ],
   "source": [
    "LogReg = LogisticRegression()\n",
    "\n",
    "LogReg.fit(X, y)\n",
    "LogReg.score(X, y)"
   ]
  },
  {
   "cell_type": "code",
   "execution_count": 55,
   "metadata": {
    "collapsed": false
   },
   "outputs": [
    {
     "ename": "AttributeError",
     "evalue": "'LogisticRegression' object has no attribute 'summary'",
     "output_type": "error",
     "traceback": [
      "\u001b[1;31m---------------------------------------------------------------------------\u001b[0m",
      "\u001b[1;31mAttributeError\u001b[0m                            Traceback (most recent call last)",
      "\u001b[1;32m<ipython-input-55-6e86388c961b>\u001b[0m in \u001b[0;36m<module>\u001b[1;34m()\u001b[0m\n\u001b[0;32m      1\u001b[0m \u001b[0mmodel1\u001b[0m \u001b[1;33m=\u001b[0m \u001b[0mLogReg\u001b[0m\u001b[1;33m.\u001b[0m\u001b[0mfit\u001b[0m\u001b[1;33m(\u001b[0m\u001b[0mX\u001b[0m\u001b[1;33m,\u001b[0m \u001b[0my\u001b[0m\u001b[1;33m)\u001b[0m\u001b[1;33m\u001b[0m\u001b[0m\n\u001b[1;32m----> 2\u001b[1;33m \u001b[0mmodel1\u001b[0m\u001b[1;33m.\u001b[0m\u001b[0msummary\u001b[0m\u001b[1;33m(\u001b[0m\u001b[1;33m)\u001b[0m\u001b[1;33m\u001b[0m\u001b[0m\n\u001b[0m",
      "\u001b[1;31mAttributeError\u001b[0m: 'LogisticRegression' object has no attribute 'summary'"
     ]
    }
   ],
   "source": [
    "model1 = LogReg.fit(X, y)\n",
    "model1.summary()"
   ]
  },
  {
   "cell_type": "markdown",
   "metadata": {},
   "source": [
    "We got a really high value so we have a good fit."
   ]
  },
  {
   "cell_type": "markdown",
   "metadata": {},
   "source": [
    "Now we will evaluate the model"
   ]
  },
  {
   "cell_type": "code",
   "execution_count": null,
   "metadata": {
    "collapsed": false
   },
   "outputs": [],
   "source": [
    "y_pred = LogReg.predict(X)\n",
    "\n",
    "print(classification_report(y, y_pred))"
   ]
  },
  {
   "cell_type": "markdown",
   "metadata": {},
   "source": [
    "Total prediction for the model is 0.82 and recall is 0.81. So, we know our model is adequate.\n",
    "\n",
    "We will also calculate area under the curve (ROC)"
   ]
  },
  {
   "cell_type": "code",
   "execution_count": null,
   "metadata": {
    "collapsed": false
   },
   "outputs": [],
   "source": [
    "roc_auc_score(y, y_pred)"
   ]
  },
  {
   "cell_type": "markdown",
   "metadata": {},
   "source": [
    "Area under the cruve is pretty close to 1 which means this is a really good classifier. If it was 0.5, it would have no predictive value."
   ]
  },
  {
   "cell_type": "markdown",
   "metadata": {},
   "source": [
    "<b>NAIVE BAYES CLASSIFICATION</b>\n",
    "\n",
    "We will use this to predict the likelihood that an event will occur."
   ]
  },
  {
   "cell_type": "markdown",
   "metadata": {},
   "source": [
    "Multinomial: for features that are categorical or continuous and describe discrete frequency counts\n",
    "\n",
    "Bernoulli: for predictions from binary features\n",
    "\n",
    "Gaussian: for predictions from normally distributed features."
   ]
  },
  {
   "cell_type": "code",
   "execution_count": null,
   "metadata": {
    "collapsed": true
   },
   "outputs": [],
   "source": []
  }
 ],
 "metadata": {
  "anaconda-cloud": {},
  "kernelspec": {
   "display_name": "Python [Root]",
   "language": "python",
   "name": "Python [Root]"
  },
  "language_info": {
   "codemirror_mode": {
    "name": "ipython",
    "version": 3
   },
   "file_extension": ".py",
   "mimetype": "text/x-python",
   "name": "python",
   "nbconvert_exporter": "python",
   "pygments_lexer": "ipython3",
   "version": "3.5.2"
  }
 },
 "nbformat": 4,
 "nbformat_minor": 0
}
