{
 "cells": [
  {
   "cell_type": "markdown",
   "metadata": {
    "colab_type": "text",
    "id": "jE42WSU2xde0"
   },
   "source": [
    "In the cell below, we print the text \"Welcome to Text Analytics\" using Python's print function. "
   ]
  },
  {
   "cell_type": "code",
   "execution_count": 0,
   "metadata": {
    "colab": {},
    "colab_type": "code",
    "collapsed": true,
    "id": "nYPFDM-Exde8",
    "scrolled": true
   },
   "outputs": [],
   "source": [
    "print('Welcome to Text Analytics!')\n"
   ]
  },
  {
   "cell_type": "markdown",
   "metadata": {
    "colab_type": "text",
    "id": "pXyY58syxdfp"
   },
   "source": [
    "## Intro to Regular Expressions ##"
   ]
  },
  {
   "cell_type": "code",
   "execution_count": 0,
   "metadata": {
    "colab": {},
    "colab_type": "code",
    "collapsed": true,
    "id": "5aNm-RtNxdfz",
    "scrolled": true
   },
   "outputs": [],
   "source": [
    "#Open the file\n",
    "file = open(r\"fraudulent_emails.txt\", \"r\", errors='ignore') \n"
   ]
  },
  {
   "cell_type": "code",
   "execution_count": 0,
   "metadata": {
    "colab": {
     "base_uri": "https://localhost:8080/",
     "height": 34
    },
    "colab_type": "code",
    "id": "EBR5grECG3E3",
    "outputId": "7a3d84d6-cdf1-4d61-ddaf-7495a6cdca2c"
   },
   "outputs": [
    {
     "data": {
      "text/plain": [
       "'UTF-8'"
      ]
     },
     "execution_count": 12,
     "metadata": {
      "tags": []
     },
     "output_type": "execute_result"
    }
   ],
   "source": [
    "file.encoding"
   ]
  },
  {
   "cell_type": "code",
   "execution_count": 0,
   "metadata": {
    "colab": {
     "base_uri": "https://localhost:8080/",
     "height": 34
    },
    "colab_type": "code",
    "id": "Lc1X-XDPxdgZ",
    "outputId": "16c4648d-9b0b-4a56-9b91-c97786c90985"
   },
   "outputs": [
    {
     "data": {
      "text/plain": [
       "'From r  Wed Oct 30 21:41:56 2002\\n'"
      ]
     },
     "execution_count": 13,
     "metadata": {
      "tags": []
     },
     "output_type": "execute_result"
    }
   ],
   "source": [
    "#Save file contents into a list then display the first line\n",
    "emails_list = file.readlines()\n",
    "emails_list [0]\n"
   ]
  },
  {
   "cell_type": "code",
   "execution_count": 0,
   "metadata": {
    "colab": {
     "base_uri": "https://localhost:8080/",
     "height": 54
    },
    "colab_type": "code",
    "id": "ySkHgVlrxdhm",
    "outputId": "cf85a613-1b48-4be0-b3bc-4ecc9994e40e"
   },
   "outputs": [
    {
     "name": "stdout",
     "output_type": "stream",
     "text": [
      "['From r  Wed Oct 30 21:41:56 2002\\n', 'Return-Path: <james_ngola2002@maktoob.com>\\n', 'X-Sieve: cmu-sieve 2.0\\n', 'Return-Path: <james_ngola2002@maktoob.com>\\n', 'Message-Id: <200210310241.g9V2fNm6028281@cs.CU>\\n', 'From: \"MR. JAMES NGOLA.\" <james_ngola2002@maktoob.com>\\n', 'Reply-To: james_ngola2002@maktoob.com\\n', 'To: webmaster@aclweb.org\\n', 'Date: Thu, 31 Oct 2002 02:38:20 +0000\\n', 'Subject: URGENT BUSINESS ASSISTANCE AND PARTNERSHIP\\n', 'X-Mailer: Microsoft Outlook Express 5.00.2919.6900 DM\\n', 'MIME-Version: 1.0\\n', 'Content-Type: text/plain; charset=\"us-ascii\"\\n', 'Content-Transfer-Encoding: 8bit\\n', 'X-MIME-Autoconverted: from quoted-printable to 8bit by sideshowmel.si.UM id g9V2foW24311\\n', 'Status: O\\n', '\\n', 'FROM:MR. JAMES NGOLA.\\n', 'CONFIDENTIAL TEL: 233-27-587908.\\n', 'E-MAIL: (james_ngola2002@maktoob.com).\\n', '\\n', 'URGENT BUSINESS ASSISTANCE AND PARTNERSHIP.\\n', '\\n', '\\n', 'DEAR FRIEND,\\n', '\\n', 'I AM ( DR.) JAMES NGOLA, THE PERSONAL ASSISTANCE TO THE LATE CONGOLESE (PRESIDENT LAURENT KABILA) WHO WAS ASSASSINATED BY HIS BODY GUARD ON 16TH JAN. 2001.\\n', '\\n', '\\n', 'THE INCIDENT OCCURRED IN OUR PRESENCE WHILE WE WERE HOLDING MEETING WITH HIS EXCELLENCY OVER THE FINANCIAL RETURNS FROM THE DIAMOND SALES IN THE AREAS CONTROLLED BY (D.R.C.) DEMOCRATIC REPUBLIC OF CONGO FORCES AND THEIR FOREIGN ALLIES ANGOLA AND ZIMBABWE, HAVING RECEIVED THE PREVIOUS DAY (USD$100M) ONE HUNDRED MILLION UNITED STATES DOLLARS, CASH IN THREE DIPLOMATIC BOXES ROUTED THROUGH ZIMBABWE.\\n']\n"
     ]
    }
   ],
   "source": [
    "#Slice the contents of the list from index 0 to index 100 to create a smaller new list \n",
    "#called test_list which we will use to explore regular expressions\n",
    "test_list = emails_list[0:100]\n",
    "print(test_list[0:30])"
   ]
  },
  {
   "cell_type": "code",
   "execution_count": 0,
   "metadata": {
    "colab": {
     "base_uri": "https://localhost:8080/",
     "height": 107
    },
    "colab_type": "code",
    "id": "yILmJ2AkxdiJ",
    "outputId": "617cf22b-cb9c-42a8-dcaa-c743a6294eaf"
   },
   "outputs": [
    {
     "name": "stdout",
     "output_type": "stream",
     "text": [
      "29 THE INCIDENT OCCURRED IN OUR PRESENCE WHILE WE WERE HOLDING MEETING WITH HIS EXCELLENCY OVER THE FINANCIAL RETURNS FROM THE DIAMOND SALES IN THE AREAS CONTROLLED BY (D.R.C.) DEMOCRATIC REPUBLIC OF CONGO FORCES AND THEIR FOREIGN ALLIES ANGOLA AND ZIMBABWE, HAVING RECEIVED THE PREVIOUS DAY (USD$100M) ONE HUNDRED MILLION UNITED STATES DOLLARS, CASH IN THREE DIPLOMATIC BOXES ROUTED THROUGH ZIMBABWE.\n",
      "\n",
      "31 MY PURPOSE OF WRITING YOU THIS LETTER IS TO SOLICIT FOR YOUR ASSISTANCE AS TO BE A COVER TO THE FUND AND ALSO COLLABORATION IN MOVING THE SAID FUND INTO YOUR BANK ACCOUNT THE SUM OF (USD$25M) TWENTY FIVE MILLION UNITED STATES DOLLARS ONLY, WHICH I DEPOSITED WITH A SECURITY COMPANY IN GHANA, IN A DIPLOMATIC BOX AS GOLDS WORTH (USD$25M) TWENTY FIVE MILLION UNITED STATES DOLLARS ONLY FOR SAFE KEEPING IN A SECURITY VAULT FOR ANY FURTHER INVESTMENT PERHAPS IN YOUR COUNTRY. \n",
      "\n"
     ]
    }
   ],
   "source": [
    "#Use the re module's re.findall all function to demonstrate searching using regex\n",
    "import re\n",
    "search_phrase = re.compile(r\"DOLLARS\")\n",
    "for index, line in enumerate(test_list):\n",
    "    if search_phrase.findall(line):\n",
    "            print(index, line)"
   ]
  },
  {
   "cell_type": "markdown",
   "metadata": {
    "colab_type": "text",
    "id": "5SCBpL2NxdiW"
   },
   "source": [
    "## Intro to Regular Expressions 2 ## \n"
   ]
  },
  {
   "cell_type": "code",
   "execution_count": 0,
   "metadata": {
    "colab": {
     "base_uri": "https://localhost:8080/",
     "height": 1797
    },
    "colab_type": "code",
    "id": "F_b8UKB1xdif",
    "outputId": "c0aed160-c346-4932-e223-6655c1deab1f"
   },
   "outputs": [
    {
     "data": {
      "text/plain": [
       "['From r  Wed Oct 30 21:41:56 2002\\n',\n",
       " 'Return-Path: <james_ngola2002@maktoob.com>\\n',\n",
       " 'X-Sieve: cmu-sieve 2.0\\n',\n",
       " 'Return-Path: <james_ngola2002@maktoob.com>\\n',\n",
       " 'Message-Id: <200210310241.g9V2fNm6028281@cs.CU>\\n',\n",
       " 'From: \"MR. JAMES NGOLA.\" <james_ngola2002@maktoob.com>\\n',\n",
       " 'Reply-To: james_ngola2002@maktoob.com\\n',\n",
       " 'To: webmaster@aclweb.org\\n',\n",
       " 'Date: Thu, 31 Oct 2002 02:38:20 +0000\\n',\n",
       " 'Subject: URGENT BUSINESS ASSISTANCE AND PARTNERSHIP\\n',\n",
       " 'X-Mailer: Microsoft Outlook Express 5.00.2919.6900 DM\\n',\n",
       " 'MIME-Version: 1.0\\n',\n",
       " 'Content-Type: text/plain; charset=\"us-ascii\"\\n',\n",
       " 'Content-Transfer-Encoding: 8bit\\n',\n",
       " 'X-MIME-Autoconverted: from quoted-printable to 8bit by sideshowmel.si.UM id g9V2foW24311\\n',\n",
       " 'Status: O\\n',\n",
       " '\\n',\n",
       " 'FROM:MR. JAMES NGOLA.\\n',\n",
       " 'CONFIDENTIAL TEL: 233-27-587908.\\n',\n",
       " 'E-MAIL: (james_ngola2002@maktoob.com).\\n',\n",
       " '\\n',\n",
       " 'URGENT BUSINESS ASSISTANCE AND PARTNERSHIP.\\n',\n",
       " '\\n',\n",
       " '\\n',\n",
       " 'DEAR FRIEND,\\n',\n",
       " '\\n',\n",
       " 'I AM ( DR.) JAMES NGOLA, THE PERSONAL ASSISTANCE TO THE LATE CONGOLESE (PRESIDENT LAURENT KABILA) WHO WAS ASSASSINATED BY HIS BODY GUARD ON 16TH JAN. 2001.\\n',\n",
       " '\\n',\n",
       " '\\n',\n",
       " 'THE INCIDENT OCCURRED IN OUR PRESENCE WHILE WE WERE HOLDING MEETING WITH HIS EXCELLENCY OVER THE FINANCIAL RETURNS FROM THE DIAMOND SALES IN THE AREAS CONTROLLED BY (D.R.C.) DEMOCRATIC REPUBLIC OF CONGO FORCES AND THEIR FOREIGN ALLIES ANGOLA AND ZIMBABWE, HAVING RECEIVED THE PREVIOUS DAY (USD$100M) ONE HUNDRED MILLION UNITED STATES DOLLARS, CASH IN THREE DIPLOMATIC BOXES ROUTED THROUGH ZIMBABWE.\\n',\n",
       " '\\n',\n",
       " 'MY PURPOSE OF WRITING YOU THIS LETTER IS TO SOLICIT FOR YOUR ASSISTANCE AS TO BE A COVER TO THE FUND AND ALSO COLLABORATION IN MOVING THE SAID FUND INTO YOUR BANK ACCOUNT THE SUM OF (USD$25M) TWENTY FIVE MILLION UNITED STATES DOLLARS ONLY, WHICH I DEPOSITED WITH A SECURITY COMPANY IN GHANA, IN A DIPLOMATIC BOX AS GOLDS WORTH (USD$25M) TWENTY FIVE MILLION UNITED STATES DOLLARS ONLY FOR SAFE KEEPING IN A SECURITY VAULT FOR ANY FURTHER INVESTMENT PERHAPS IN YOUR COUNTRY. \\n',\n",
       " '\\n',\n",
       " 'YOU WERE INTRODUCED TO ME BY A RELIABLE FRIEND OF MINE WHO IS A TRAVELLER,AND ALSO A MEMBER OF CHAMBER OF COMMERCE AS A RELIABLE AND TRUSTWORTHY PERSON WHOM I CAN RELY ON AS FOREIGN PARTNER, EVEN THOUGH THE NATURE OF THE TRANSACTION WAS NOT REVEALED TO HIM FOR SECURITY REASONS.\\n',\n",
       " '\\n',\n",
       " '\\n',\n",
       " 'THE (USD$25M) WAS PART OF A PROCEEDS FROM DIAMOND TRADE MEANT FOR THE LATE PRESIDENT LAURENT KABILA WHICH WAS DELIVERED THROUGH ZIMBABWE IN DIPLOMATIC BOXES. THE BOXES WERE KEPT UNDER MY CUSTODY BEFORE THE SAD EVENT THAT TOOK THE LIFE OF (MR. PRESIDENT).THE CONFUSION THAT ENSUED AFTER THE ASSASSINATION AND THE SPORADIC SHOOTING AMONG THE FACTIONS, I HAVE TO RUN AWAY FROM THE COUNTRY FOR MY DEAR LIFE AS I AM NOT A SOLDIER BUT A CIVIL SERVANT I CROSSED RIVER CONGO TO OTHER SIDE OF CONGO LIBREVILLE FROM THERE I MOVED TO THE THIRD COUNTRY GHANA WHERE I AM PRESENTLY TAKING REFUGE. \\n',\n",
       " '\\n',\n",
       " 'AS A MATTER OF FACT, WHAT I URGENTLY NEEDED FROM YOU IS YOUR ASSISTANCE IN MOVING THIS MONEY INTO YOUR ACCOUNT IN YOUR COUNTRY FOR INVESTMENT WITHOUT RAISING EYEBROW. FOR YOUR ASSISTANCE I WILL GIVE YOU 20% OF THE TOTAL SUM AS YOUR OWN SHARE WHEN THE MONEY GETS TO YOUR ACCOUNT, WHILE 75% WILL BE FOR ME, OF WHICH WITH YOUR KIND ADVICE I HOPE TO INVEST IN PROFITABLE VENTURE IN YOUR COUNTRY IN OTHER TO SETTLE DOWN FOR MEANINGFUL LIFE, AS I AM TIRED OF LIVING IN A WAR ENVIRONMENT. \\n',\n",
       " '\\n',\n",
       " 'THE REMAINING 5% WILL BE USED TO OFFSET ANY COST INCURRED IN THE CAUSE OF MOVING THE MONEY TO YOUR ACCOUNT. IF THE PROPOSAL IS ACCEPTABLE TO YOU PLEASE CONTACT ME IMMEDIATELY THROUGH THE ABOVE TELEPHONE AND E-MAIL, TO ENABLE ME ARRANGE FACE TO FACE MEETING WITH YOU IN GHANA FOR THE CLEARANCE OF THE FUNDS BEFORE TRANSFRING IT TO YOUR BANK ACCOUNT AS SEEING IS BELIEVING. \\n',\n",
       " '\\n',\n",
       " 'FINALLY, IT IS IMPORTANT ALSO THAT I LET YOU UNDERSTAND THAT THERE IS NO RISK INVOLVED WHATSOEVER AS THE MONEY HAD NO RECORD IN KINSHASA FOR IT WAS MEANT FOR THE PERSONAL USE OF (MR. PRESIDEND ) BEFORE THE NEFARIOUS INCIDENT OCCURRED, AND ALSO I HAVE ALL THE NECESSARY DOCUMENTS AS REGARDS TO THE FUNDS INCLUDING THE (CERTIFICATE OF DEPOSIT), AS I AM THE DEPOSITOR OF THE CONSIGNMENT.\\n',\n",
       " '\\n',\n",
       " '\\n',\n",
       " 'LOOKING FORWARD TO YOUR URGENT RESPONSE.\\n',\n",
       " '\\n',\n",
       " 'YOUR SINCERELY,\\n',\n",
       " '\\n',\n",
       " 'MR. JAMES NGOLA. \\n',\n",
       " '\\n',\n",
       " '\\n',\n",
       " '\\n',\n",
       " '\\n',\n",
       " '\\n',\n",
       " '\\n',\n",
       " '\\n',\n",
       " '\\n',\n",
       " '\\n',\n",
       " '\\n',\n",
       " 'From r  Thu Oct 31 08:11:39 2002\\n',\n",
       " 'Return-Path: <bensul2004nng@spinfinder.com>\\n',\n",
       " 'X-Sieve: cmu-sieve 2.0\\n',\n",
       " 'Return-Path: <bensul2004nng@spinfinder.com>\\n',\n",
       " 'Message-Id: <200210311310.g9VDANt24674@bloodwork.mr.itd.UM>\\n',\n",
       " 'From: \"Mr. Ben Suleman\" <bensul2004nng@spinfinder.com>\\n',\n",
       " 'Date: Thu, 31 Oct 2002 05:10:00\\n',\n",
       " 'To: R@M\\n',\n",
       " 'Subject: URGENT ASSISTANCE /RELATIONSHIP (P)\\n',\n",
       " 'MIME-Version: 1.0\\n',\n",
       " 'Content-Type: text/plain;charset=\"iso-8859-1\"\\n',\n",
       " 'Content-Transfer-Encoding: 7bit\\n',\n",
       " 'Status: O\\n',\n",
       " '\\n',\n",
       " 'Dear Friend,\\n',\n",
       " '\\n',\n",
       " 'I am Mr. Ben Suleman a custom officer and work as Assistant controller of the Customs and Excise department Of the Federal Ministry of Internal Affairs stationed at the Murtala Mohammed International Airport, Ikeja, Lagos-Nigeria.\\n',\n",
       " '\\n',\n",
       " 'After the sudden death of the former Head of state of Nigeria General Sanni Abacha on June 8th 1998 his aides and immediate members of his family were arrested while trying to escape from Nigeria in a Chartered jet to Saudi Arabia with 6 trunk boxes Marked \"Diplomatic Baggage\". Acting on a tip-off as they attempted to board the Air Craft,my officials carried out a thorough search on the air craft and discovered that the 6 trunk boxes contained foreign currencies amounting to US$197,570,000.00(One Hundred and  Ninety-Seven Million Five Hundred Seventy Thousand United States Dollars).\\n',\n",
       " '\\n',\n",
       " 'I declared only (5) five boxes to the government and withheld one (1) in my custody containing the sum of (US$30,000,000.00) Thirty Million United States Dollars Only, which has been disguised to prevent their being discovered during transportation process.Due to several media reports on the late head of state about all the money him and his co-government officials stole from our government treasury amounting\\n',\n",
       " 'to US$55 Billion Dollars (ref:ngrguardiannews.com) of July 2nd 1999. Even the London times of July 1998 reported that General Abacha has over US$3.Billion dollars in one account overseas. We decided to conceal this one (1)box till the situation is calm and quite on the issue. The box was thus deposited with a security company here in Nigeria and tagged as \"Precious Stones and Jewellry\" in other that its\\n',\n",
       " 'content will not be discovered. Now that all is calm, we (myself and two of my colleagues in the operations team) are now ready to move this box out of the country through a diplomatic arrangement which is the safest means. \\n',\n",
       " '\\n',\n",
       " 'However as government officials the Civil Service Code of Conduct does not allow us by law to operate any foreign account or own foreign investment and the amount of money that can be found in our account\\n',\n",
       " 'cannot be more than our salary on the average, thus our handicapp and our need for your assistance to help collect and keep safely in your account this money.\\n',\n",
       " '\\n',\n",
       " 'Therefore we want you to assist us in moving this money out of Nigeria. We shall definitely compensate you handsomely for the assistance. We can do this by instructing the Security Company here in Nigeria to\\n',\n",
       " 'move the consignment to their affiliate branch office outside Nigeria through diplomatic means and the consignment will be termed as Precious Stones and Jewelleries\" which you bought during your visit to Nigeria and is being transfered to your country from here for safe keeping. Then we can arrange to meet at the destination country to take the delivery of the consignment. You will thereafter open an account there and lodge the Money there and gradually instruct remittance to your Country. \\n',\n",
       " '\\n',\n",
       " 'This business is 100% risk free for you so please treat this matter with utmost confidentiality .If you indicate your interest to assist us please just e-mail me for more Explanation on how we plan to execute the transaction.\\n',\n",
       " '\\n',\n",
       " 'Expecting your response urgently.\\n',\n",
       " '\\n',\n",
       " 'Best regards,\\n',\n",
       " '\\n',\n",
       " 'Mr. Ben Suleman\\n',\n",
       " '\\n',\n",
       " 'From r  Thu Oct 31 17:27:16 2002\\n',\n",
       " 'Return-Path: <obong_715@epatra.com>\\n']"
      ]
     },
     "execution_count": 16,
     "metadata": {
      "tags": []
     },
     "output_type": "execute_result"
    }
   ],
   "source": [
    "#Display the contents of our test_list\n",
    "test_list"
   ]
  },
  {
   "cell_type": "code",
   "execution_count": 0,
   "metadata": {
    "colab": {
     "base_uri": "https://localhost:8080/",
     "height": 1814
    },
    "colab_type": "code",
    "id": "F2qCRw_Uxdjx",
    "outputId": "f9f1fb01-fa66-479f-cde0-ee98f0be6c92"
   },
   "outputs": [
    {
     "name": "stdout",
     "output_type": "stream",
     "text": [
      "From r  Wed Oct 30 21:41:56 2002\n",
      "Return-Path: <james_ngola2002@maktoob.com>\n",
      "X-Sieve: cmu-sieve 2.0\n",
      "Return-Path: <james_ngola2002@maktoob.com>\n",
      "Message-Id: <200210310241.g9V2fNm6028281@cs.CU>\n",
      "From: \"MR. JAMES NGOLA.\" <james_ngola2002@maktoob.com>\n",
      "Reply-To: james_ngola2002@maktoob.com\n",
      "To: webmaster@aclweb.org\n",
      "Date: Thu, 31 Oct 2002 02:38:20 +0000\n",
      "Subject: URGENT BUSINESS ASSISTANCE AND PARTNERSHIP\n",
      "X-Mailer: Microsoft Outlook Express 5.00.2919.6900 DM\n",
      "MIME-Version: 1.0\n",
      "Content-Type: text/plain; charset=\"us-ascii\"\n",
      "Content-Transfer-Encoding: 8bit\n",
      "X-MIME-Autoconverted: from quoted-printable to 8bit by sideshowmel.si.UM id g9V2foW24311\n",
      "Status: O\n",
      "\n",
      "FROM:MR. JAMES NGOLA.\n",
      "CONFIDENTIAL TEL: 233-27-587908.\n",
      "E-MAIL: (james_ngola2002@maktoob.com).\n",
      "\n",
      "URGENT BUSINESS ASSISTANCE AND PARTNERSHIP.\n",
      "\n",
      "\n",
      "DEAR FRIEND,\n",
      "\n",
      "I AM ( DR.) JAMES NGOLA, THE PERSONAL ASSISTANCE TO THE LATE CONGOLESE (PRESIDENT LAURENT KABILA) WHO WAS ASSASSINATED BY HIS BODY GUARD ON 16TH JAN. 2001.\n",
      "\n",
      "\n",
      "THE INCIDENT OCCURRED IN OUR PRESENCE WHILE WE WERE HOLDING MEETING WITH HIS EXCELLENCY OVER THE FINANCIAL RETURNS FROM THE DIAMOND SALES IN THE AREAS CONTROLLED BY (D.R.C.) DEMOCRATIC REPUBLIC OF CONGO FORCES AND THEIR FOREIGN ALLIES ANGOLA AND ZIMBABWE, HAVING RECEIVED THE PREVIOUS DAY (USD$100M) ONE HUNDRED MILLION UNITED STATES DOLLARS, CASH IN THREE DIPLOMATIC BOXES ROUTED THROUGH ZIMBABWE.\n",
      "\n",
      "MY PURPOSE OF WRITING YOU THIS LETTER IS TO SOLICIT FOR YOUR ASSISTANCE AS TO BE A COVER TO THE FUND AND ALSO COLLABORATION IN MOVING THE SAID FUND INTO YOUR BANK ACCOUNT THE SUM OF (USD$25M) TWENTY FIVE MILLION UNITED STATES DOLLARS ONLY, WHICH I DEPOSITED WITH A SECURITY COMPANY IN GHANA, IN A DIPLOMATIC BOX AS GOLDS WORTH (USD$25M) TWENTY FIVE MILLION UNITED STATES DOLLARS ONLY FOR SAFE KEEPING IN A SECURITY VAULT FOR ANY FURTHER INVESTMENT PERHAPS IN YOUR COUNTRY. \n",
      "\n",
      "YOU WERE INTRODUCED TO ME BY A RELIABLE FRIEND OF MINE WHO IS A TRAVELLER,AND ALSO A MEMBER OF CHAMBER OF COMMERCE AS A RELIABLE AND TRUSTWORTHY PERSON WHOM I CAN RELY ON AS FOREIGN PARTNER, EVEN THOUGH THE NATURE OF THE TRANSACTION WAS NOT REVEALED TO HIM FOR SECURITY REASONS.\n",
      "\n",
      "\n",
      "THE (USD$25M) WAS PART OF A PROCEEDS FROM DIAMOND TRADE MEANT FOR THE LATE PRESIDENT LAURENT KABILA WHICH WAS DELIVERED THROUGH ZIMBABWE IN DIPLOMATIC BOXES. THE BOXES WERE KEPT UNDER MY CUSTODY BEFORE THE SAD EVENT THAT TOOK THE LIFE OF (MR. PRESIDENT).THE CONFUSION THAT ENSUED AFTER THE ASSASSINATION AND THE SPORADIC SHOOTING AMONG THE FACTIONS, I HAVE TO RUN AWAY FROM THE COUNTRY FOR MY DEAR LIFE AS I AM NOT A SOLDIER BUT A CIVIL SERVANT I CROSSED RIVER CONGO TO OTHER SIDE OF CONGO LIBREVILLE FROM THERE I MOVED TO THE THIRD COUNTRY GHANA WHERE I AM PRESENTLY TAKING REFUGE. \n",
      "\n",
      "AS A MATTER OF FACT, WHAT I URGENTLY NEEDED FROM YOU IS YOUR ASSISTANCE IN MOVING THIS MONEY INTO YOUR ACCOUNT IN YOUR COUNTRY FOR INVESTMENT WITHOUT RAISING EYEBROW. FOR YOUR ASSISTANCE I WILL GIVE YOU 20% OF THE TOTAL SUM AS YOUR OWN SHARE WHEN THE MONEY GETS TO YOUR ACCOUNT, WHILE 75% WILL BE FOR ME, OF WHICH WITH YOUR KIND ADVICE I HOPE TO INVEST IN PROFITABLE VENTURE IN YOUR COUNTRY IN OTHER TO SETTLE DOWN FOR MEANINGFUL LIFE, AS I AM TIRED OF LIVING IN A WAR ENVIRONMENT. \n",
      "\n",
      "THE REMAINING 5% WILL BE USED TO OFFSET ANY COST INCURRED IN THE CAUSE OF MOVING THE MONEY TO YOUR ACCOUNT. IF THE PROPOSAL IS ACCEPTABLE TO YOU PLEASE CONTACT ME IMMEDIATELY THROUGH THE ABOVE TELEPHONE AND E-MAIL, TO ENABLE ME ARRANGE FACE TO FACE MEETING WITH YOU IN GHANA FOR THE CLEARANCE OF THE FUNDS BEFORE TRANSFRING IT TO YOUR BANK ACCOUNT AS SEEING IS BELIEVING. \n",
      "\n",
      "FINALLY, IT IS IMPORTANT ALSO THAT I LET YOU UNDERSTAND THAT THERE IS NO RISK INVOLVED WHATSOEVER AS THE MONEY HAD NO RECORD IN KINSHASA FOR IT WAS MEANT FOR THE PERSONAL USE OF (MR. PRESIDEND ) BEFORE THE NEFARIOUS INCIDENT OCCURRED, AND ALSO I HAVE ALL THE NECESSARY DOCUMENTS AS REGARDS TO THE FUNDS INCLUDING THE (CERTIFICATE OF DEPOSIT), AS I AM THE DEPOSITOR OF THE CONSIGNMENT.\n",
      "\n",
      "\n",
      "LOOKING FORWARD TO YOUR URGENT RESPONSE.\n",
      "\n",
      "YOUR SINCERELY,\n",
      "\n",
      "MR. JAMES NGOLA. \n",
      "\n",
      "\n",
      "\n",
      "\n",
      "\n",
      "\n",
      "\n",
      "\n",
      "\n",
      "\n",
      "From r  Thu Oct 31 08:11:39 2002\n",
      "Return-Path: <bensul2004nng@spinfinder.com>\n",
      "X-Sieve: cmu-sieve 2.0\n",
      "Return-Path: <bensul2004nng@spinfinder.com>\n",
      "Message-Id: <200210311310.g9VDANt24674@bloodwork.mr.itd.UM>\n",
      "From: \"Mr. Ben Suleman\" <bensul2004nng@spinfinder.com>\n",
      "Date: Thu, 31 Oct 2002 05:10:00\n",
      "To: R@M\n",
      "Subject: URGENT ASSISTANCE /RELATIONSHIP (P)\n",
      "MIME-Version: 1.0\n",
      "Content-Type: text/plain;charset=\"iso-8859-1\"\n",
      "Content-Transfer-Encoding: 7bit\n",
      "Status: O\n",
      "\n",
      "Dear Friend,\n",
      "\n",
      "I am Mr. Ben Suleman a custom officer and work as Assistant controller of the Customs and Excise department Of the Federal Ministry of Internal Affairs stationed at the Murtala Mohammed International Airport, Ikeja, Lagos-Nigeria.\n",
      "\n",
      "After the sudden death of the former Head of state of Nigeria General Sanni Abacha on June 8th 1998 his aides and immediate members of his family were arrested while trying to escape from Nigeria in a Chartered jet to Saudi Arabia with 6 trunk boxes Marked \"Diplomatic Baggage\". Acting on a tip-off as they attempted to board the Air Craft,my officials carried out a thorough search on the air craft and discovered that the 6 trunk boxes contained foreign currencies amounting to US$197,570,000.00(One Hundred and  Ninety-Seven Million Five Hundred Seventy Thousand United States Dollars).\n",
      "\n",
      "I declared only (5) five boxes to the government and withheld one (1) in my custody containing the sum of (US$30,000,000.00) Thirty Million United States Dollars Only, which has been disguised to prevent their being discovered during transportation process.Due to several media reports on the late head of state about all the money him and his co-government officials stole from our government treasury amounting\n",
      "to US$55 Billion Dollars (ref:ngrguardiannews.com) of July 2nd 1999. Even the London times of July 1998 reported that General Abacha has over US$3.Billion dollars in one account overseas. We decided to conceal this one (1)box till the situation is calm and quite on the issue. The box was thus deposited with a security company here in Nigeria and tagged as \"Precious Stones and Jewellry\" in other that its\n",
      "content will not be discovered. Now that all is calm, we (myself and two of my colleagues in the operations team) are now ready to move this box out of the country through a diplomatic arrangement which is the safest means. \n",
      "\n",
      "However as government officials the Civil Service Code of Conduct does not allow us by law to operate any foreign account or own foreign investment and the amount of money that can be found in our account\n",
      "cannot be more than our salary on the average, thus our handicapp and our need for your assistance to help collect and keep safely in your account this money.\n",
      "\n",
      "Therefore we want you to assist us in moving this money out of Nigeria. We shall definitely compensate you handsomely for the assistance. We can do this by instructing the Security Company here in Nigeria to\n",
      "move the consignment to their affiliate branch office outside Nigeria through diplomatic means and the consignment will be termed as Precious Stones and Jewelleries\" which you bought during your visit to Nigeria and is being transfered to your country from here for safe keeping. Then we can arrange to meet at the destination country to take the delivery of the consignment. You will thereafter open an account there and lodge the Money there and gradually instruct remittance to your Country. \n",
      "\n",
      "This business is 100% risk free for you so please treat this matter with utmost confidentiality .If you indicate your interest to assist us please just e-mail me for more Explanation on how we plan to execute the transaction.\n",
      "\n",
      "Expecting your response urgently.\n",
      "\n",
      "Best regards,\n",
      "\n",
      "Mr. Ben Suleman\n",
      "\n",
      "From r  Thu Oct 31 17:27:16 2002\n",
      "Return-Path: <obong_715@epatra.com>\n",
      "\n"
     ]
    }
   ],
   "source": [
    "#Create a string called test_string for use in exploring regular expressions\n",
    "test_string = ''.join(test_list)\n",
    "\n",
    "print(test_string)\n"
   ]
  },
  {
   "cell_type": "code",
   "execution_count": 0,
   "metadata": {
    "colab": {},
    "colab_type": "code",
    "collapsed": true,
    "id": "gbWh9t2xxdkS"
   },
   "outputs": [],
   "source": [
    "#Search for the phrase 'bank' in the test_string\n",
    "re.search('bank', test_string)"
   ]
  },
  {
   "cell_type": "code",
   "execution_count": 0,
   "metadata": {
    "colab": {
     "base_uri": "https://localhost:8080/",
     "height": 34
    },
    "colab_type": "code",
    "id": "x8DDEAJIxdm0",
    "outputId": "a584341c-365c-41c4-e202-9a768f82c834"
   },
   "outputs": [
    {
     "data": {
      "text/plain": [
       "<_sre.SRE_Match object; span=(1518, 1522), match='BANK'>"
      ]
     },
     "execution_count": 19,
     "metadata": {
      "tags": []
     },
     "output_type": "execute_result"
    }
   ],
   "source": [
    "#Search for the phrase 'BANK' in the test_string\n",
    "re.search('BANK', test_string)\n"
   ]
  },
  {
   "cell_type": "code",
   "execution_count": 0,
   "metadata": {
    "colab": {
     "base_uri": "https://localhost:8080/",
     "height": 34
    },
    "colab_type": "code",
    "id": "V1Q479O1xdnK",
    "outputId": "49643c61-6cc6-48d6-eaf0-23ad9978104e"
   },
   "outputs": [
    {
     "data": {
      "text/plain": [
       "'ID FUND INTO YOUR BANK ACCOUNT'"
      ]
     },
     "execution_count": 20,
     "metadata": {
      "tags": []
     },
     "output_type": "execute_result"
    }
   ],
   "source": [
    "#Display a snippet of the line in which the phrase 'BANK' was found\n",
    "test_string[1500:1530]"
   ]
  },
  {
   "cell_type": "code",
   "execution_count": 0,
   "metadata": {
    "colab": {
     "base_uri": "https://localhost:8080/",
     "height": 34
    },
    "colab_type": "code",
    "id": "YKqObZRjxdoc",
    "outputId": "790b4bc2-1b23-457b-b912-4388b3a0096a"
   },
   "outputs": [
    {
     "data": {
      "text/plain": [
       "['bank', 'bank']"
      ]
     },
     "execution_count": 21,
     "metadata": {
      "tags": []
     },
     "output_type": "execute_result"
    }
   ],
   "source": [
    "#Use the re module's findall() function to find all instances of 'bank'. \n",
    "#We convert test_string to lowercase to ensure instances of bank can be found if present\n",
    "re.findall('bank', test_string.lower())"
   ]
  },
  {
   "cell_type": "code",
   "execution_count": 0,
   "metadata": {
    "colab": {
     "base_uri": "https://localhost:8080/",
     "height": 34
    },
    "colab_type": "code",
    "id": "_DX9DL4IxdpB",
    "outputId": "ac613e64-dfa6-4371-9571-441429a1238f"
   },
   "outputs": [
    {
     "data": {
      "text/plain": [
       "2"
      ]
     },
     "execution_count": 22,
     "metadata": {
      "tags": []
     },
     "output_type": "execute_result"
    }
   ],
   "source": [
    "#If we are after the number of instances, we can use the length function\n",
    "len(re.findall('bank',test_string.lower()))"
   ]
  },
  {
   "cell_type": "code",
   "execution_count": 0,
   "metadata": {
    "colab": {
     "base_uri": "https://localhost:8080/",
     "height": 1814
    },
    "colab_type": "code",
    "id": "PqzqWkYGxdpO",
    "outputId": "1a7ee377-0ac4-456f-fc48-d6e4f88d40eb"
   },
   "outputs": [
    {
     "name": "stdout",
     "output_type": "stream",
     "text": [
      "from r  wed oct 30 21:41:56 2002\n",
      "return-path: <james_ngola2002@maktoob.com>\n",
      "x-sieve: cmu-sieve 2.0\n",
      "return-path: <james_ngola2002@maktoob.com>\n",
      "message-id: <200210310241.g9v2fnm6028281@cs.cu>\n",
      "from: \"mr. james ngola.\" <james_ngola2002@maktoob.com>\n",
      "reply-to: james_ngola2002@maktoob.com\n",
      "to: webmaster@aclweb.org\n",
      "date: thu, 31 oct 2002 02:38:20 +0000\n",
      "subject: urgent business assistance and partnership\n",
      "x-mailer: microsoft outlook express 5.00.2919.6900 dm\n",
      "mime-version: 1.0\n",
      "content-type: text/plain; charset=\"us-ascii\"\n",
      "content-transfer-encoding: 8bit\n",
      "x-mime-autoconverted: from quoted-printable to 8bit by sideshowmel.si.um id g9v2fow24311\n",
      "status: o\n",
      "\n",
      "from:mr. james ngola.\n",
      "confidential tel: 233-27-587908.\n",
      "e-mail: (james_ngola2002@maktoob.com).\n",
      "\n",
      "urgent business assistance and partnership.\n",
      "\n",
      "\n",
      "dear MARK,\n",
      "\n",
      "i am ( dr.) james ngola, the personal assistance to the late congolese (president laurent kabila) who was assassinated by his body guard on 16th jan. 2001.\n",
      "\n",
      "\n",
      "the incident occurred in our presence while we were holding meeting with his excellency over the financial returns from the diamond sales in the areas controlled by (d.r.c.) democratic republic of congo forces and their foreign allies angola and zimbabwe, having received the previous day (usd$100m) one hundred million united states dollars, cash in three diplomatic boxes routed through zimbabwe.\n",
      "\n",
      "my purpose of writing you this letter is to solicit for your assistance as to be a cover to the fund and also collaboration in moving the said fund into your bank account the sum of (usd$25m) twenty five million united states dollars only, which i deposited with a security company in ghana, in a diplomatic box as golds worth (usd$25m) twenty five million united states dollars only for safe keeping in a security vault for any further investment perhaps in your country. \n",
      "\n",
      "you were introduced to me by a reliable MARK of mine who is a traveller,and also a member of chamber of commerce as a reliable and trustworthy person whom i can rely on as foreign partner, even though the nature of the transaction was not revealed to him for security reasons.\n",
      "\n",
      "\n",
      "the (usd$25m) was part of a proceeds from diamond trade meant for the late president laurent kabila which was delivered through zimbabwe in diplomatic boxes. the boxes were kept under my custody before the sad event that took the life of (mr. president).the confusion that ensued after the assassination and the sporadic shooting among the factions, i have to run away from the country for my dear life as i am not a soldier but a civil servant i crossed river congo to other side of congo libreville from there i moved to the third country ghana where i am presently taking refuge. \n",
      "\n",
      "as a matter of fact, what i urgently needed from you is your assistance in moving this money into your account in your country for investment without raising eyebrow. for your assistance i will give you 20% of the total sum as your own share when the money gets to your account, while 75% will be for me, of which with your kind advice i hope to invest in profitable venture in your country in other to settle down for meaningful life, as i am tired of living in a war environment. \n",
      "\n",
      "the remaining 5% will be used to offset any cost incurred in the cause of moving the money to your account. if the proposal is acceptable to you please contact me immediately through the above telephone and e-mail, to enable me arrange face to face meeting with you in ghana for the clearance of the funds before transfring it to your bank account as seeing is believing. \n",
      "\n",
      "finally, it is important also that i let you understand that there is no risk involved whatsoever as the money had no record in kinshasa for it was meant for the personal use of (mr. presidend ) before the nefarious incident occurred, and also i have all the necessary documents as regards to the funds including the (certificate of deposit), as i am the depositor of the consignment.\n",
      "\n",
      "\n",
      "looking forward to your urgent response.\n",
      "\n",
      "your sincerely,\n",
      "\n",
      "mr. james ngola. \n",
      "\n",
      "\n",
      "\n",
      "\n",
      "\n",
      "\n",
      "\n",
      "\n",
      "\n",
      "\n",
      "from r  thu oct 31 08:11:39 2002\n",
      "return-path: <bensul2004nng@spinfinder.com>\n",
      "x-sieve: cmu-sieve 2.0\n",
      "return-path: <bensul2004nng@spinfinder.com>\n",
      "message-id: <200210311310.g9vdant24674@bloodwork.mr.itd.um>\n",
      "from: \"mr. ben suleman\" <bensul2004nng@spinfinder.com>\n",
      "date: thu, 31 oct 2002 05:10:00\n",
      "to: r@m\n",
      "subject: urgent assistance /relationship (p)\n",
      "mime-version: 1.0\n",
      "content-type: text/plain;charset=\"iso-8859-1\"\n",
      "content-transfer-encoding: 7bit\n",
      "status: o\n",
      "\n",
      "dear MARK,\n",
      "\n",
      "i am mr. ben suleman a custom officer and work as assistant controller of the customs and excise department of the federal ministry of internal affairs stationed at the murtala mohammed international airport, ikeja, lagos-nigeria.\n",
      "\n",
      "after the sudden death of the former head of state of nigeria general sanni abacha on june 8th 1998 his aides and immediate members of his family were arrested while trying to escape from nigeria in a chartered jet to saudi arabia with 6 trunk boxes marked \"diplomatic baggage\". acting on a tip-off as they attempted to board the air craft,my officials carried out a thorough search on the air craft and discovered that the 6 trunk boxes contained foreign currencies amounting to us$197,570,000.00(one hundred and  ninety-seven million five hundred seventy thousand united states dollars).\n",
      "\n",
      "i declared only (5) five boxes to the government and withheld one (1) in my custody containing the sum of (us$30,000,000.00) thirty million united states dollars only, which has been disguised to prevent their being discovered during transportation process.due to several media reports on the late head of state about all the money him and his co-government officials stole from our government treasury amounting\n",
      "to us$55 billion dollars (ref:ngrguardiannews.com) of july 2nd 1999. even the london times of july 1998 reported that general abacha has over us$3.billion dollars in one account overseas. we decided to conceal this one (1)box till the situation is calm and quite on the issue. the box was thus deposited with a security company here in nigeria and tagged as \"precious stones and jewellry\" in other that its\n",
      "content will not be discovered. now that all is calm, we (myself and two of my colleagues in the operations team) are now ready to move this box out of the country through a diplomatic arrangement which is the safest means. \n",
      "\n",
      "however as government officials the civil service code of conduct does not allow us by law to operate any foreign account or own foreign investment and the amount of money that can be found in our account\n",
      "cannot be more than our salary on the average, thus our handicapp and our need for your assistance to help collect and keep safely in your account this money.\n",
      "\n",
      "therefore we want you to assist us in moving this money out of nigeria. we shall definitely compensate you handsomely for the assistance. we can do this by instructing the security company here in nigeria to\n",
      "move the consignment to their affiliate branch office outside nigeria through diplomatic means and the consignment will be termed as precious stones and jewelleries\" which you bought during your visit to nigeria and is being transfered to your country from here for safe keeping. then we can arrange to meet at the destination country to take the delivery of the consignment. you will thereafter open an account there and lodge the money there and gradually instruct remittance to your country. \n",
      "\n",
      "this business is 100% risk free for you so please treat this matter with utmost confidentiality .if you indicate your interest to assist us please just e-mail me for more explanation on how we plan to execute the transaction.\n",
      "\n",
      "expecting your response urgently.\n",
      "\n",
      "best regards,\n",
      "\n",
      "mr. ben suleman\n",
      "\n",
      "from r  thu oct 31 17:27:16 2002\n",
      "return-path: <obong_715@epatra.com>\n",
      "\n"
     ]
    }
   ],
   "source": [
    "#Use the re module's sub() function to replace the string 'friend' with 'MARK'\n",
    "sub_word = r\"MARK\"\n",
    "test_string = re.sub('friend', sub_word, test_string.lower())\n",
    "print(test_string)\n"
   ]
  },
  {
   "cell_type": "code",
   "execution_count": 0,
   "metadata": {
    "colab": {
     "base_uri": "https://localhost:8080/",
     "height": 1814
    },
    "colab_type": "code",
    "id": "PvSHNqahxdpl",
    "outputId": "33549859-3a1d-42a1-a750-f2f634811ee9"
   },
   "outputs": [
    {
     "data": {
      "text/plain": [
       "['from r  wed oct 30 21:41:56 2002',\n",
       " 'return-path: <james_ngola2002@maktoob.com>',\n",
       " 'x-sieve: cmu-sieve 2.0',\n",
       " 'return-path: <james_ngola2002@maktoob.com>',\n",
       " 'message-id: <200210310241.g9v2fnm6028281@cs.cu>',\n",
       " 'from: \"mr. james ngola.\" <james_ngola2002@maktoob.com>',\n",
       " 'reply-to: james_ngola2002@maktoob.com',\n",
       " 'to: webmaster@aclweb.org',\n",
       " 'date: thu, 31 oct 2002 02:38:20 +0000',\n",
       " 'subject: urgent business assistance and partnership',\n",
       " 'x-mailer: microsoft outlook express 5.00.2919.6900 dm',\n",
       " 'mime-version: 1.0',\n",
       " 'content-type: text/plain; charset=\"us-ascii\"',\n",
       " 'content-transfer-encoding: 8bit',\n",
       " 'x-mime-autoconverted: from quoted-printable to 8bit by sideshowmel.si.um id g9v2fow24311',\n",
       " 'status: o',\n",
       " '',\n",
       " 'from:mr. james ngola.',\n",
       " 'confidential tel: 233-27-587908.',\n",
       " 'e-mail: (james_ngola2002@maktoob.com).',\n",
       " '',\n",
       " 'urgent business assistance and partnership.',\n",
       " '',\n",
       " '',\n",
       " 'dear MARK,',\n",
       " '',\n",
       " 'i am ( dr.) james ngola, the personal assistance to the late congolese (president laurent kabila) who was assassinated by his body guard on 16th jan. 2001.',\n",
       " '',\n",
       " '',\n",
       " 'the incident occurred in our presence while we were holding meeting with his excellency over the financial returns from the diamond sales in the areas controlled by (d.r.c.) democratic republic of congo forces and their foreign allies angola and zimbabwe, having received the previous day (usd$100m) one hundred million united states dollars, cash in three diplomatic boxes routed through zimbabwe.',\n",
       " '',\n",
       " 'my purpose of writing you this letter is to solicit for your assistance as to be a cover to the fund and also collaboration in moving the said fund into your bank account the sum of (usd$25m) twenty five million united states dollars only, which i deposited with a security company in ghana, in a diplomatic box as golds worth (usd$25m) twenty five million united states dollars only for safe keeping in a security vault for any further investment perhaps in your country. ',\n",
       " '',\n",
       " 'you were introduced to me by a reliable MARK of mine who is a traveller,and also a member of chamber of commerce as a reliable and trustworthy person whom i can rely on as foreign partner, even though the nature of the transaction was not revealed to him for security reasons.',\n",
       " '',\n",
       " '',\n",
       " 'the (usd$25m) was part of a proceeds from diamond trade meant for the late president laurent kabila which was delivered through zimbabwe in diplomatic boxes. the boxes were kept under my custody before the sad event that took the life of (mr. president).the confusion that ensued after the assassination and the sporadic shooting among the factions, i have to run away from the country for my dear life as i am not a soldier but a civil servant i crossed river congo to other side of congo libreville from there i moved to the third country ghana where i am presently taking refuge. ',\n",
       " '',\n",
       " 'as a matter of fact, what i urgently needed from you is your assistance in moving this money into your account in your country for investment without raising eyebrow. for your assistance i will give you 20% of the total sum as your own share when the money gets to your account, while 75% will be for me, of which with your kind advice i hope to invest in profitable venture in your country in other to settle down for meaningful life, as i am tired of living in a war environment. ',\n",
       " '',\n",
       " 'the remaining 5% will be used to offset any cost incurred in the cause of moving the money to your account. if the proposal is acceptable to you please contact me immediately through the above telephone and e-mail, to enable me arrange face to face meeting with you in ghana for the clearance of the funds before transfring it to your bank account as seeing is believing. ',\n",
       " '',\n",
       " 'finally, it is important also that i let you understand that there is no risk involved whatsoever as the money had no record in kinshasa for it was meant for the personal use of (mr. presidend ) before the nefarious incident occurred, and also i have all the necessary documents as regards to the funds including the (certificate of deposit), as i am the depositor of the consignment.',\n",
       " '',\n",
       " '',\n",
       " 'looking forward to your urgent response.',\n",
       " '',\n",
       " 'your sincerely,',\n",
       " '',\n",
       " 'mr. james ngola. ',\n",
       " '',\n",
       " '',\n",
       " '',\n",
       " '',\n",
       " '',\n",
       " '',\n",
       " '',\n",
       " '',\n",
       " '',\n",
       " '',\n",
       " 'from r  thu oct 31 08:11:39 2002',\n",
       " 'return-path: <bensul2004nng@spinfinder.com>',\n",
       " 'x-sieve: cmu-sieve 2.0',\n",
       " 'return-path: <bensul2004nng@spinfinder.com>',\n",
       " 'message-id: <200210311310.g9vdant24674@bloodwork.mr.itd.um>',\n",
       " 'from: \"mr. ben suleman\" <bensul2004nng@spinfinder.com>',\n",
       " 'date: thu, 31 oct 2002 05:10:00',\n",
       " 'to: r@m',\n",
       " 'subject: urgent assistance /relationship (p)',\n",
       " 'mime-version: 1.0',\n",
       " 'content-type: text/plain;charset=\"iso-8859-1\"',\n",
       " 'content-transfer-encoding: 7bit',\n",
       " 'status: o',\n",
       " '',\n",
       " 'dear MARK,',\n",
       " '',\n",
       " 'i am mr. ben suleman a custom officer and work as assistant controller of the customs and excise department of the federal ministry of internal affairs stationed at the murtala mohammed international airport, ikeja, lagos-nigeria.',\n",
       " '',\n",
       " 'after the sudden death of the former head of state of nigeria general sanni abacha on june 8th 1998 his aides and immediate members of his family were arrested while trying to escape from nigeria in a chartered jet to saudi arabia with 6 trunk boxes marked \"diplomatic baggage\". acting on a tip-off as they attempted to board the air craft,my officials carried out a thorough search on the air craft and discovered that the 6 trunk boxes contained foreign currencies amounting to us$197,570,000.00(one hundred and  ninety-seven million five hundred seventy thousand united states dollars).',\n",
       " '',\n",
       " 'i declared only (5) five boxes to the government and withheld one (1) in my custody containing the sum of (us$30,000,000.00) thirty million united states dollars only, which has been disguised to prevent their being discovered during transportation process.due to several media reports on the late head of state about all the money him and his co-government officials stole from our government treasury amounting',\n",
       " 'to us$55 billion dollars (ref:ngrguardiannews.com) of july 2nd 1999. even the london times of july 1998 reported that general abacha has over us$3.billion dollars in one account overseas. we decided to conceal this one (1)box till the situation is calm and quite on the issue. the box was thus deposited with a security company here in nigeria and tagged as \"precious stones and jewellry\" in other that its',\n",
       " 'content will not be discovered. now that all is calm, we (myself and two of my colleagues in the operations team) are now ready to move this box out of the country through a diplomatic arrangement which is the safest means. ',\n",
       " '',\n",
       " 'however as government officials the civil service code of conduct does not allow us by law to operate any foreign account or own foreign investment and the amount of money that can be found in our account',\n",
       " 'cannot be more than our salary on the average, thus our handicapp and our need for your assistance to help collect and keep safely in your account this money.',\n",
       " '',\n",
       " 'therefore we want you to assist us in moving this money out of nigeria. we shall definitely compensate you handsomely for the assistance. we can do this by instructing the security company here in nigeria to',\n",
       " 'move the consignment to their affiliate branch office outside nigeria through diplomatic means and the consignment will be termed as precious stones and jewelleries\" which you bought during your visit to nigeria and is being transfered to your country from here for safe keeping. then we can arrange to meet at the destination country to take the delivery of the consignment. you will thereafter open an account there and lodge the money there and gradually instruct remittance to your country. ',\n",
       " '',\n",
       " 'this business is 100% risk free for you so please treat this matter with utmost confidentiality .if you indicate your interest to assist us please just e-mail me for more explanation on how we plan to execute the transaction.',\n",
       " '',\n",
       " 'expecting your response urgently.',\n",
       " '',\n",
       " 'best regards,',\n",
       " '',\n",
       " 'mr. ben suleman',\n",
       " '',\n",
       " 'from r  thu oct 31 17:27:16 2002',\n",
       " 'return-path: <obong_715@epatra.com>',\n",
       " '']"
      ]
     },
     "execution_count": 24,
     "metadata": {
      "tags": []
     },
     "output_type": "execute_result"
    }
   ],
   "source": [
    "#Use the re module's split() function to split test_string based on newline characters\n",
    "sentence_endings = r\"\\n\"\n",
    "re.split(sentence_endings, test_string)"
   ]
  },
  {
   "cell_type": "code",
   "execution_count": 0,
   "metadata": {
    "colab": {
     "base_uri": "https://localhost:8080/",
     "height": 34
    },
    "colab_type": "code",
    "id": "SxcUXKiExdqY",
    "outputId": "04c14276-3ae7-4081-d928-3c6a14c79ba9"
   },
   "outputs": [
    {
     "data": {
      "text/plain": [
       "['1', '0', '0']"
      ]
     },
     "execution_count": 25,
     "metadata": {
      "tags": []
     },
     "output_type": "execute_result"
    }
   ],
   "source": [
    "#We create sentence_1, a string we use to explore regex character classes\n",
    "#Here we search only for numeric digits\n",
    "sentence_1 = \"I'm 100% hungry\"\n",
    "\n",
    "re.findall(r\"\\d\", sentence_1)"
   ]
  },
  {
   "cell_type": "code",
   "execution_count": 0,
   "metadata": {
    "colab": {
     "base_uri": "https://localhost:8080/",
     "height": 34
    },
    "colab_type": "code",
    "id": "0TRMJQhOxdrT",
    "outputId": "5a014414-5791-4861-a0f3-5787bedb67af"
   },
   "outputs": [
    {
     "data": {
      "text/plain": [
       "['I', \"'\", 'm', ' ', '%', ' ', 'h', 'u', 'n', 'g', 'r', 'y']"
      ]
     },
     "execution_count": 26,
     "metadata": {
      "tags": []
     },
     "output_type": "execute_result"
    }
   ],
   "source": [
    "#Here we search for any character that is not a numeric digit\n",
    "re.findall(r\"\\D\", sentence_1)"
   ]
  },
  {
   "cell_type": "code",
   "execution_count": 0,
   "metadata": {
    "colab": {
     "base_uri": "https://localhost:8080/",
     "height": 34
    },
    "colab_type": "code",
    "id": "hLi4_9wixdr7",
    "outputId": "76006504-d3e7-4a0f-d4fb-170cecad1b98"
   },
   "outputs": [
    {
     "data": {
      "text/plain": [
       "['I', 'm', '1', '0', '0', 'h', 'u', 'n', 'g', 'r', 'y']"
      ]
     },
     "execution_count": 27,
     "metadata": {
      "tags": []
     },
     "output_type": "execute_result"
    }
   ],
   "source": [
    "#Here we search for only alphanumeric characters\n",
    "re.findall(r\"\\w\", sentence_1)"
   ]
  },
  {
   "cell_type": "code",
   "execution_count": 0,
   "metadata": {
    "colab": {
     "base_uri": "https://localhost:8080/",
     "height": 34
    },
    "colab_type": "code",
    "id": "myNuLNKtxdsb",
    "outputId": "4112bad9-866d-4477-c71e-16b33ec97ad4"
   },
   "outputs": [
    {
     "data": {
      "text/plain": [
       "[\"'\", ' ', '%', ' ']"
      ]
     },
     "execution_count": 28,
     "metadata": {
      "tags": []
     },
     "output_type": "execute_result"
    }
   ],
   "source": [
    "#Here we search for any character that is not an alphanumeric character\n",
    "re.findall(r\"\\W\", sentence_1)"
   ]
  },
  {
   "cell_type": "code",
   "execution_count": 0,
   "metadata": {
    "colab": {
     "base_uri": "https://localhost:8080/",
     "height": 34
    },
    "colab_type": "code",
    "id": "Vzj1XOpTxdsn",
    "outputId": "d30ccf34-ede2-426e-a5de-14d1964d1138"
   },
   "outputs": [
    {
     "data": {
      "text/plain": [
       "[' ', ' ']"
      ]
     },
     "execution_count": 29,
     "metadata": {
      "tags": []
     },
     "output_type": "execute_result"
    }
   ],
   "source": [
    "#Here we search for whitespaces only \n",
    "re.findall(r\"\\s\", sentence_1)"
   ]
  },
  {
   "cell_type": "code",
   "execution_count": 0,
   "metadata": {
    "colab": {
     "base_uri": "https://localhost:8080/",
     "height": 34
    },
    "colab_type": "code",
    "id": "MBVgie2Vxds1",
    "outputId": "4daabcd0-2b67-419c-a4f1-d3031261565f"
   },
   "outputs": [
    {
     "data": {
      "text/plain": [
       "['I', \"'\", 'm', '1', '0', '0', '%', 'h', 'u', 'n', 'g', 'r', 'y']"
      ]
     },
     "execution_count": 30,
     "metadata": {
      "tags": []
     },
     "output_type": "execute_result"
    }
   ],
   "source": [
    "#Here we search for any character that is not a space\n",
    "re.findall(r\"\\S\", sentence_1)"
   ]
  },
  {
   "cell_type": "markdown",
   "metadata": {
    "colab_type": "text",
    "id": "GOHzlrlexdtG"
   },
   "source": [
    "## Tokenization 1 ##"
   ]
  },
  {
   "cell_type": "code",
   "execution_count": 0,
   "metadata": {
    "colab": {
     "base_uri": "https://localhost:8080/",
     "height": 122
    },
    "colab_type": "code",
    "id": "Zu-y_L2VxdtK",
    "outputId": "0dc1585a-7952-4ad8-aa84-7e7a169fa3e0"
   },
   "outputs": [
    {
     "name": "stdout",
     "output_type": "stream",
     "text": [
      "Requirement already satisfied: nltk in /usr/local/lib/python3.6/dist-packages (3.2.5)\n",
      "Requirement already satisfied: six in /usr/local/lib/python3.6/dist-packages (from nltk) (1.11.0)\n",
      "Requirement already satisfied: numpy in /usr/local/lib/python3.6/dist-packages (1.14.6)\n",
      "[nltk_data] Downloading package punkt to /root/nltk_data...\n",
      "[nltk_data]   Unzipping tokenizers/punkt.zip.\n"
     ]
    },
    {
     "data": {
      "text/plain": [
       "True"
      ]
     },
     "execution_count": 34,
     "metadata": {
      "tags": []
     },
     "output_type": "execute_result"
    }
   ],
   "source": [
    "#Install NLTK, NLTK data and Numpy which is needed by NLTK\n",
    "!pip install nltk\n",
    "!pip install numpy\n",
    "import nltk\n",
    "nltk.download('punkt')\n"
   ]
  },
  {
   "cell_type": "code",
   "execution_count": 0,
   "metadata": {
    "colab": {
     "base_uri": "https://localhost:8080/",
     "height": 54
    },
    "colab_type": "code",
    "id": "LL0INVKYxdtS",
    "outputId": "c49e16b5-51b2-425c-87db-ab734adcad3b"
   },
   "outputs": [
    {
     "name": "stdout",
     "output_type": "stream",
     "text": [
      "['Should', 'I', 'live', 'in', 'St.Paul', 'or', 'Minneapolis', '?', 'I', \"'m\", 'having', 'a', 'hard', 'time', 'choosing', '!']\n"
     ]
    }
   ],
   "source": [
    "#Import NLTK and perform tokenization using NLTK's word_tokenize()\n",
    "from nltk.tokenize import word_tokenize\n",
    "\n",
    "sentences = \"Should I live in St.Paul or Minneapolis? I'm having a hard time choosing!\"\n",
    "\n",
    "tokenized_sentences = word_tokenize(sentences)\n",
    "\n",
    "print(tokenized_sentences)"
   ]
  },
  {
   "cell_type": "code",
   "execution_count": 0,
   "metadata": {
    "colab": {
     "base_uri": "https://localhost:8080/",
     "height": 34
    },
    "colab_type": "code",
    "id": "ajy5sI3nxdtd",
    "outputId": "9fedbc9c-5b5b-452d-fa23-dfbfa9fe7bf6"
   },
   "outputs": [
    {
     "name": "stdout",
     "output_type": "stream",
     "text": [
      "['Should I live in St.Paul or Minneapolis?', \"I'm having a hard time choosing!\"]\n"
     ]
    }
   ],
   "source": [
    "#Tokenize using NLTK's sent_tokenize()\n",
    "from nltk.tokenize import sent_tokenize\n",
    "print(sent_tokenize(sentences))"
   ]
  },
  {
   "cell_type": "code",
   "execution_count": 0,
   "metadata": {
    "colab": {
     "base_uri": "https://localhost:8080/",
     "height": 34
    },
    "colab_type": "code",
    "id": "125Zb9zjxdtn",
    "outputId": "265bcec3-bb41-4f8e-be3d-e9058250bc36"
   },
   "outputs": [
    {
     "name": "stdout",
     "output_type": "stream",
     "text": [
      "['Should I live in St.Paul or Minneapolis?', \"I'm having a hard time choosing!\"]\n"
     ]
    }
   ],
   "source": [
    "#Tokenize using NLTK's regexp_tokenize()\n",
    "from nltk.tokenize import regexp_tokenize\n",
    "\n",
    "pattern = r\"\\S.*?[\\?\\!]\"\n",
    "\n",
    "print(regexp_tokenize(sentences, pattern))"
   ]
  },
  {
   "cell_type": "code",
   "execution_count": 0,
   "metadata": {
    "colab": {
     "base_uri": "https://localhost:8080/",
     "height": 54
    },
    "colab_type": "code",
    "id": "XDUoDLv6xdt1",
    "outputId": "3f7b1d33-a43e-4954-ee10-71c2a6eb5954",
    "scrolled": true
   },
   "outputs": [
    {
     "name": "stdout",
     "output_type": "stream",
     "text": [
      "['Should', 'I', 'live', 'in', 'St.Paul', 'or', 'Minneapolis', '😕', '?', '#', 'moving', '#', 'hardchoices', '@', 'sarahm', '@', 'angela']\n"
     ]
    }
   ],
   "source": [
    "#Tokenize a Tweet using NLTK's word_tokenize(). Compare with using TweetTokenizer below. \n",
    "\n",
    "sentences = \"Should I live in St.Paul or Minneapolis 😕? #moving #hardchoices @sarahm @angela\"\n",
    "print(word_tokenize(sentences))"
   ]
  },
  {
   "cell_type": "code",
   "execution_count": 0,
   "metadata": {
    "colab": {
     "base_uri": "https://localhost:8080/",
     "height": 34
    },
    "colab_type": "code",
    "id": "8rMvEs5Txdt_",
    "outputId": "a1f7bb2b-4435-486e-8e87-80fc7f846a05"
   },
   "outputs": [
    {
     "name": "stdout",
     "output_type": "stream",
     "text": [
      "['Should', 'I', 'live', 'in', 'St.Paul', 'or', 'Minneapolis', '😕', '?', '#moving', '#hardchoices', '@sarahm', '@angela']\n"
     ]
    }
   ],
   "source": [
    "#Tokenize using NLTK's TweetTokenizer()\n",
    "from nltk.tokenize import TweetTokenizer\n",
    "tweet = \"Should I live in St.Paul or Minneapolis 😕? #moving #hardchoices @sarahm @angela\"\n",
    "tokenizer = TweetTokenizer()\n",
    "tokenized_tweets = tokenizer.tokenize(tweet)\n",
    "print(tokenized_tweets)\n"
   ]
  },
  {
   "cell_type": "markdown",
   "metadata": {
    "colab_type": "text",
    "id": "wkz2GmxtxduH"
   },
   "source": [
    "## Normalization 1 ##"
   ]
  },
  {
   "cell_type": "code",
   "execution_count": 6,
   "metadata": {
    "colab": {
     "base_uri": "https://localhost:8080/",
     "height": 34
    },
    "colab_type": "code",
    "id": "EKUsJIvOxduJ",
    "outputId": "b301772a-ab3c-457a-867b-a10c826a83e0"
   },
   "outputs": [
    {
     "name": "stdout",
     "output_type": "stream",
     "text": [
      "should i live in st.paul or minneapolis? i'm having a hard time choosing. as someone who loves nightlife, minneapolis seems like the better place for me. \n"
     ]
    }
   ],
   "source": [
    "#Perform case-folding (to lowercase) on a string using string.lower() method\n",
    "sentences = \"Should I live in St.Paul or Minneapolis? I'm having a hard time choosing. As someone who loves nightlife, Minneapolis seems like the better place for me. \"\n",
    "\n",
    "sentences = sentences.lower()\n",
    "print(sentences)"
   ]
  },
  {
   "cell_type": "code",
   "execution_count": 7,
   "metadata": {
    "colab": {
     "base_uri": "https://localhost:8080/",
     "height": 34
    },
    "colab_type": "code",
    "id": "PJTPf8QsxduV",
    "outputId": "829d2eed-1fa7-43f1-f286-f435723bb44b",
    "scrolled": true
   },
   "outputs": [
    {
     "name": "stdout",
     "output_type": "stream",
     "text": [
      "['should i live in st.paul or minneapolis?', \"i'm having a hard time choosing.\", 'as someone who loves nightlife, minneapolis seems like the better place for me. ']\n"
     ]
    }
   ],
   "source": [
    "#Perform case-folding (to lowercase) on a list using string.lower() method and \n",
    "sentences_list = [\"Should I live in St.Paul or Minneapolis?\",\"I'm having a hard time choosing.\", \"As someone who loves nightlife, Minneapolis seems like the better place for me. \"]\n",
    "\n",
    "sentences_list = [word.lower() for word in sentences_list]\n",
    "\n",
    "print(sentences_list)\n",
    "\n"
   ]
  },
  {
   "cell_type": "code",
   "execution_count": 8,
   "metadata": {
    "colab": {
     "base_uri": "https://localhost:8080/",
     "height": 70
    },
    "colab_type": "code",
    "id": "G0IPRymsxdus",
    "outputId": "0302c4e2-8b5c-48fa-ea3e-fab717fefc21"
   },
   "outputs": [
    {
     "name": "stdout",
     "output_type": "stream",
     "text": [
      "Punctuation constant from string.punctuation:  !\"#$%&'()*+,-./:;<=>?@[\\]^_`{|}~\n",
      "\n",
      "Punctuation Regular Expression Pattern:        [!\"\\#\\$%\\&'\\(\\)\\*\\+,\\-\\./:;<=>\\?@\\[\\\\\\]\\^_`\\{\\|\\}\\~]\n"
     ]
    }
   ],
   "source": [
    "#Import and show the contents of the punctuation constant and the regular expression created using them\n",
    "import re\n",
    "from string import punctuation\n",
    "print(\"Punctuation constant from string.punctuation: \" , punctuation, end = '\\n\\n')\n",
    "print(\"Punctuation Regular Expression Pattern:       \",'[{}]'.format(re.escape(punctuation)))"
   ]
  },
  {
   "cell_type": "code",
   "execution_count": 9,
   "metadata": {
    "colab": {
     "base_uri": "https://localhost:8080/",
     "height": 70
    },
    "colab_type": "code",
    "id": "xeIqf2Mjxdug",
    "outputId": "42adf3b9-ecc2-44cb-f728-8acef6340a4b"
   },
   "outputs": [
    {
     "name": "stdout",
     "output_type": "stream",
     "text": [
      "should i live in st.paul or minneapolis? i'm having a hard time choosing. as someone who loves nightlife, minneapolis seems like the better place for me. \n",
      "\n",
      "should i live in stpaul or minneapolis im having a hard time choosing as someone who loves nightlife minneapolis seems like the better place for me \n"
     ]
    }
   ],
   "source": [
    "#Remove punctuation using regular expressions and the string.punctuation constant \n",
    "import re\n",
    "from string import punctuation\n",
    "\n",
    "sentences = \"should i live in st.paul or minneapolis? i'm having a hard time choosing. as someone who loves nightlife, minneapolis seems like the better place for me. \"\n",
    "pattern = re.compile('[{}]'.format(re.escape(punctuation)))\n",
    "punctuation_removed = re.sub(pattern, r'', sentences)\n",
    "\n",
    "print(sentences, end = '\\n\\n')\n",
    "print(punctuation_removed)"
   ]
  },
  {
   "cell_type": "code",
   "execution_count": 10,
   "metadata": {
    "colab": {
     "base_uri": "https://localhost:8080/",
     "height": 105
    },
    "colab_type": "code",
    "id": "4u0S3Rwyxdu1",
    "outputId": "a89a2a06-15ed-4bff-b742-9558c31487d9"
   },
   "outputs": [
    {
     "name": "stdout",
     "output_type": "stream",
     "text": [
      "['live', 'stpaul', 'minneapolis', 'im', 'hard', 'time', 'choosing', 'someone', 'loves', 'nightlife', 'minneapolis', 'seems', 'like', 'better', 'place']\n"
     ]
    },
    {
     "name": "stderr",
     "output_type": "stream",
     "text": [
      "[nltk_data] Downloading package stopwords to\n",
      "[nltk_data]     C:\\Users\\Michael\\AppData\\Roaming\\nltk_data...\n",
      "[nltk_data]   Package stopwords is already up-to-date!\n",
      "[nltk_data] Downloading package punkt to\n",
      "[nltk_data]     C:\\Users\\Michael\\AppData\\Roaming\\nltk_data...\n",
      "[nltk_data]   Package punkt is already up-to-date!\n"
     ]
    }
   ],
   "source": [
    "#Remove stop words using NLTK word_tokenize and NLTK's stopwords corpus\n",
    "import nltk\n",
    "nltk.download('stopwords')\n",
    "nltk.download('punkt')\n",
    "from nltk.tokenize import word_tokenize\n",
    "from nltk.corpus import stopwords\n",
    "\n",
    "punctuation_removed = \"should i live in stpaul or minneapolis im having a hard time choosing as someone who loves nightlife minneapolis seems like the better place for me \"\n",
    "stop_words = set(stopwords.words('english'))\n",
    "punctuation_removed = word_tokenize(punctuation_removed)\n",
    "stop_words_removed = []\n",
    "\n",
    "[stop_words_removed.append(w) for w in punctuation_removed if w not in stop_words]\n",
    "\n",
    "print(stop_words_removed)\n"
   ]
  },
  {
   "cell_type": "markdown",
   "metadata": {
    "colab_type": "text",
    "id": "eyXXCQWSxdvN"
   },
   "source": [
    "## Normalization 2 ##"
   ]
  },
  {
   "cell_type": "code",
   "execution_count": 1,
   "metadata": {
    "colab": {
     "base_uri": "https://localhost:8080/",
     "height": 34
    },
    "colab_type": "code",
    "id": "N9GBz_-DxdvS",
    "outputId": "80b13cc4-489c-43fa-be4c-6be3a3e3c645"
   },
   "outputs": [
    {
     "name": "stdout",
     "output_type": "stream",
     "text": [
      "['live', 'stpaul', 'minneapoli', 'im', 'hard', 'time', 'choos', 'someon', 'love', 'nightlif', 'minneapoli', 'seem', 'like', 'better', 'place']\n"
     ]
    }
   ],
   "source": [
    "#Perform stemming using NLTK's Porter Stemmer\n",
    "from nltk.stem import PorterStemmer\n",
    "\n",
    "stop_words_removed = ['live', 'stpaul', 'minneapolis', 'im', 'hard', 'time', 'choosing', 'someone', 'loves', 'nightlife', 'minneapolis', 'seems', 'like', 'better', 'place']\n",
    "porter = PorterStemmer()\n",
    "\n",
    "sentences_stemmed = [porter.stem(word) for word in stop_words_removed]\n",
    "print(sentences_stemmed)"
   ]
  },
  {
   "cell_type": "code",
   "execution_count": 2,
   "metadata": {
    "colab": {
     "base_uri": "https://localhost:8080/",
     "height": 70
    },
    "colab_type": "code",
    "id": "1Ah_emC6xdvf",
    "outputId": "ef19257e-3e39-412e-a6f5-91d72ae50566"
   },
   "outputs": [
    {
     "name": "stderr",
     "output_type": "stream",
     "text": [
      "[nltk_data] Downloading package wordnet to\n",
      "[nltk_data]     C:\\Users\\Michael\\AppData\\Roaming\\nltk_data...\n",
      "[nltk_data]   Package wordnet is already up-to-date!\n"
     ]
    },
    {
     "name": "stdout",
     "output_type": "stream",
     "text": [
      "['live', 'stpaul', 'minneapolis', 'im', 'hard', 'time', 'choosing', 'someone', 'love', 'nightlife', 'minneapolis', 'seems', 'like', 'better', 'place']\n"
     ]
    }
   ],
   "source": [
    "#Perform lemmatization using NLTK'S WordNet Lemmatizer\n",
    "import nltk\n",
    "nltk.download('wordnet')\n",
    "from nltk.stem import WordNetLemmatizer\n",
    "\n",
    "stop_words_removed = ['live', 'stpaul', 'minneapolis', 'im', 'hard', 'time', 'choosing', 'someone', 'loves', 'nightlife', 'minneapolis', 'seems', 'like', 'better', 'place']\n",
    "wordnet_lemmatizer = WordNetLemmatizer()\n",
    "\n",
    "sentences_lemmatized = [wordnet_lemmatizer.lemmatize(word) for word in stop_words_removed]\n",
    "print(sentences_lemmatized)"
   ]
  },
  {
   "cell_type": "markdown",
   "metadata": {
    "colab_type": "text",
    "id": "n3aMkUdkxdvt"
   },
   "source": [
    "## Text Analytics with Pandas ##"
   ]
  },
  {
   "cell_type": "code",
   "execution_count": 3,
   "metadata": {
    "colab": {
     "base_uri": "https://localhost:8080/",
     "height": 224
    },
    "colab_type": "code",
    "id": "edBaHoKQxdvz",
    "outputId": "64270534-d594-4159-881f-68df9b17df04"
   },
   "outputs": [
    {
     "name": "stdout",
     "output_type": "stream",
     "text": [
      "Collecting pandas\n",
      "  Downloading https://files.pythonhosted.org/packages/e5/dc/6111d6644d0f2221d29f5aee79cb37ef89e5f40f636274359abdfa330dc6/pandas-0.24.0-cp37-cp37m-win_amd64.whl (9.0MB)\n",
      "Requirement already satisfied: numpy>=1.12.0 in c:\\users\\michael\\downloads\\miniconda3\\lib\\site-packages (from pandas) (1.16.0)\n",
      "Requirement already satisfied: python-dateutil>=2.5.0 in c:\\users\\michael\\downloads\\miniconda3\\lib\\site-packages (from pandas) (2.7.5)\n",
      "Collecting pytz>=2011k (from pandas)\n",
      "  Using cached https://files.pythonhosted.org/packages/61/28/1d3920e4d1d50b19bc5d24398a7cd85cc7b9a75a490570d5a30c57622d34/pytz-2018.9-py2.py3-none-any.whl\n",
      "Requirement already satisfied: six>=1.5 in c:\\users\\michael\\downloads\\miniconda3\\lib\\site-packages (from python-dateutil>=2.5.0->pandas) (1.12.0)\n",
      "Installing collected packages: pytz, pandas\n",
      "Successfully installed pandas-0.24.0 pytz-2018.9\n"
     ]
    },
    {
     "data": {
      "text/html": [
       "<div>\n",
       "<style scoped>\n",
       "    .dataframe tbody tr th:only-of-type {\n",
       "        vertical-align: middle;\n",
       "    }\n",
       "\n",
       "    .dataframe tbody tr th {\n",
       "        vertical-align: top;\n",
       "    }\n",
       "\n",
       "    .dataframe thead th {\n",
       "        text-align: right;\n",
       "    }\n",
       "</style>\n",
       "<table border=\"1\" class=\"dataframe\">\n",
       "  <thead>\n",
       "    <tr style=\"text-align: right;\">\n",
       "      <th></th>\n",
       "      <th>text</th>\n",
       "    </tr>\n",
       "  </thead>\n",
       "  <tbody>\n",
       "    <tr>\n",
       "      <th>0</th>\n",
       "      <td>Should I live in St. Paul or Minneapolis?</td>\n",
       "    </tr>\n",
       "    <tr>\n",
       "      <th>1</th>\n",
       "      <td>I'm having a hard time choosing.</td>\n",
       "    </tr>\n",
       "    <tr>\n",
       "      <th>2</th>\n",
       "      <td>As someone who loves nightlife, Minneapolis seems like the better place for me.</td>\n",
       "    </tr>\n",
       "  </tbody>\n",
       "</table>\n",
       "</div>"
      ],
      "text/plain": [
       "                                                                              text\n",
       "0                                        Should I live in St. Paul or Minneapolis?\n",
       "1                                                 I'm having a hard time choosing.\n",
       "2  As someone who loves nightlife, Minneapolis seems like the better place for me."
      ]
     },
     "execution_count": 3,
     "metadata": {},
     "output_type": "execute_result"
    }
   ],
   "source": [
    "#Install pandas and create a dataframe from a list of sentences\n",
    "!pip install matplotlib\n",
    "!pip install pandas\n",
    "import pandas as pd\n",
    "pd.set_option('max_colwidth', 800)\n",
    "\n",
    "sentences = [\"Should I live in St. Paul or Minneapolis?\", \"I'm having a hard time choosing.\", \"As someone who loves nightlife, Minneapolis seems like the better place for me.\"]\n",
    "\n",
    "frame = pd.DataFrame(sentences, columns=['text'])\n",
    "\n",
    "frame.head()"
   ]
  },
  {
   "cell_type": "code",
   "execution_count": 4,
   "metadata": {
    "colab": {
     "base_uri": "https://localhost:8080/",
     "height": 106
    },
    "colab_type": "code",
    "id": "CsAnSEt0xdv8",
    "outputId": "45b709dd-034c-4401-8033-970cf7d20acd"
   },
   "outputs": [
    {
     "data": {
      "text/html": [
       "<div>\n",
       "<style scoped>\n",
       "    .dataframe tbody tr th:only-of-type {\n",
       "        vertical-align: middle;\n",
       "    }\n",
       "\n",
       "    .dataframe tbody tr th {\n",
       "        vertical-align: top;\n",
       "    }\n",
       "\n",
       "    .dataframe thead th {\n",
       "        text-align: right;\n",
       "    }\n",
       "</style>\n",
       "<table border=\"1\" class=\"dataframe\">\n",
       "  <thead>\n",
       "    <tr style=\"text-align: right;\">\n",
       "      <th></th>\n",
       "      <th>text</th>\n",
       "    </tr>\n",
       "  </thead>\n",
       "  <tbody>\n",
       "    <tr>\n",
       "      <th>0</th>\n",
       "      <td>Should I live in St. Paul or Minneapolis?</td>\n",
       "    </tr>\n",
       "    <tr>\n",
       "      <th>1</th>\n",
       "      <td>I'm having a hard time choosing.</td>\n",
       "    </tr>\n",
       "  </tbody>\n",
       "</table>\n",
       "</div>"
      ],
      "text/plain": [
       "                                        text\n",
       "0  Should I live in St. Paul or Minneapolis?\n",
       "1           I'm having a hard time choosing."
      ]
     },
     "execution_count": 4,
     "metadata": {},
     "output_type": "execute_result"
    }
   ],
   "source": [
    "#View the first 2 rows of the dataframe using pandas datframe .head() method\n",
    "frame.head(2)"
   ]
  },
  {
   "cell_type": "code",
   "execution_count": 5,
   "metadata": {
    "colab": {
     "base_uri": "https://localhost:8080/",
     "height": 87
    },
    "colab_type": "code",
    "id": "rfTXYnc-xdww",
    "outputId": "a9ae16c7-d393-4f82-f966-0d11bdd37c88"
   },
   "outputs": [
    {
     "data": {
      "text/plain": [
       "0    41\n",
       "1    32\n",
       "2    79\n",
       "Name: text, dtype: int64"
      ]
     },
     "execution_count": 5,
     "metadata": {},
     "output_type": "execute_result"
    }
   ],
   "source": [
    "#View the length of the sentences in the text column using label indexing\n",
    "frame['text'].str.len()"
   ]
  },
  {
   "cell_type": "code",
   "execution_count": 6,
   "metadata": {
    "colab": {
     "base_uri": "https://localhost:8080/",
     "height": 87
    },
    "colab_type": "code",
    "id": "1DHV8i8uxdw4",
    "outputId": "0db03b1f-56ff-48ee-9786-f77f96f0f350"
   },
   "outputs": [
    {
     "data": {
      "text/plain": [
       "0                                          should i live in st. paul or minneapolis?\n",
       "1                                                   i'm having a hard time choosing.\n",
       "2    as someone who loves nightlife, minneapolis seems like the better place for me.\n",
       "Name: text, dtype: object"
      ]
     },
     "execution_count": 6,
     "metadata": {},
     "output_type": "execute_result"
    }
   ],
   "source": [
    "#Perform casefolding on the text column using label indexing\n",
    "\n",
    "frame['text'].str.lower()"
   ]
  },
  {
   "cell_type": "code",
   "execution_count": 7,
   "metadata": {
    "colab": {
     "base_uri": "https://localhost:8080/",
     "height": 136
    },
    "colab_type": "code",
    "id": "e0xFZOTFxdxA",
    "outputId": "a1445c7c-4191-498d-eb9a-3a78834e8564"
   },
   "outputs": [
    {
     "data": {
      "text/html": [
       "<div>\n",
       "<style scoped>\n",
       "    .dataframe tbody tr th:only-of-type {\n",
       "        vertical-align: middle;\n",
       "    }\n",
       "\n",
       "    .dataframe tbody tr th {\n",
       "        vertical-align: top;\n",
       "    }\n",
       "\n",
       "    .dataframe thead th {\n",
       "        text-align: right;\n",
       "    }\n",
       "</style>\n",
       "<table border=\"1\" class=\"dataframe\">\n",
       "  <thead>\n",
       "    <tr style=\"text-align: right;\">\n",
       "      <th></th>\n",
       "      <th>text</th>\n",
       "    </tr>\n",
       "  </thead>\n",
       "  <tbody>\n",
       "    <tr>\n",
       "      <th>0</th>\n",
       "      <td>Should I live in St. Paul or Minneapolis?</td>\n",
       "    </tr>\n",
       "    <tr>\n",
       "      <th>1</th>\n",
       "      <td>I'm having a hard time choosing.</td>\n",
       "    </tr>\n",
       "    <tr>\n",
       "      <th>2</th>\n",
       "      <td>As someone who loves nightlife, Minneapolis seems like the better place for me.</td>\n",
       "    </tr>\n",
       "  </tbody>\n",
       "</table>\n",
       "</div>"
      ],
      "text/plain": [
       "                                                                              text\n",
       "0                                        Should I live in St. Paul or Minneapolis?\n",
       "1                                                 I'm having a hard time choosing.\n",
       "2  As someone who loves nightlife, Minneapolis seems like the better place for me."
      ]
     },
     "execution_count": 7,
     "metadata": {},
     "output_type": "execute_result"
    }
   ],
   "source": [
    "#View the first 5 rows in the dataframe. Here we see that the casefolding performed in the cell above did not affect the dataframe as we did not use an assignment statement.\n",
    "frame.head()"
   ]
  },
  {
   "cell_type": "code",
   "execution_count": 8,
   "metadata": {
    "colab": {
     "base_uri": "https://localhost:8080/",
     "height": 136
    },
    "colab_type": "code",
    "id": "asK4rml7xdxG",
    "outputId": "74eed072-524d-40bb-cd55-26a5c7fa7f13"
   },
   "outputs": [
    {
     "data": {
      "text/html": [
       "<div>\n",
       "<style scoped>\n",
       "    .dataframe tbody tr th:only-of-type {\n",
       "        vertical-align: middle;\n",
       "    }\n",
       "\n",
       "    .dataframe tbody tr th {\n",
       "        vertical-align: top;\n",
       "    }\n",
       "\n",
       "    .dataframe thead th {\n",
       "        text-align: right;\n",
       "    }\n",
       "</style>\n",
       "<table border=\"1\" class=\"dataframe\">\n",
       "  <thead>\n",
       "    <tr style=\"text-align: right;\">\n",
       "      <th></th>\n",
       "      <th>text</th>\n",
       "    </tr>\n",
       "  </thead>\n",
       "  <tbody>\n",
       "    <tr>\n",
       "      <th>0</th>\n",
       "      <td>should i live in st. paul or minneapolis?</td>\n",
       "    </tr>\n",
       "    <tr>\n",
       "      <th>1</th>\n",
       "      <td>i'm having a hard time choosing.</td>\n",
       "    </tr>\n",
       "    <tr>\n",
       "      <th>2</th>\n",
       "      <td>as someone who loves nightlife, minneapolis seems like the better place for me.</td>\n",
       "    </tr>\n",
       "  </tbody>\n",
       "</table>\n",
       "</div>"
      ],
      "text/plain": [
       "                                                                              text\n",
       "0                                        should i live in st. paul or minneapolis?\n",
       "1                                                 i'm having a hard time choosing.\n",
       "2  as someone who loves nightlife, minneapolis seems like the better place for me."
      ]
     },
     "execution_count": 8,
     "metadata": {},
     "output_type": "execute_result"
    }
   ],
   "source": [
    "#Perform casefolding on the text column and persist our changes with an assignment statement \n",
    "frame['text'] = frame['text'].str.lower()\n",
    "frame.head()"
   ]
  },
  {
   "cell_type": "code",
   "execution_count": 9,
   "metadata": {
    "colab": {
     "base_uri": "https://localhost:8080/",
     "height": 136
    },
    "colab_type": "code",
    "id": "lktzP_4SxdxL",
    "outputId": "9c106d9f-7ad3-4af4-b1d5-fe2268ab1933"
   },
   "outputs": [
    {
     "data": {
      "text/html": [
       "<div>\n",
       "<style scoped>\n",
       "    .dataframe tbody tr th:only-of-type {\n",
       "        vertical-align: middle;\n",
       "    }\n",
       "\n",
       "    .dataframe tbody tr th {\n",
       "        vertical-align: top;\n",
       "    }\n",
       "\n",
       "    .dataframe thead th {\n",
       "        text-align: right;\n",
       "    }\n",
       "</style>\n",
       "<table border=\"1\" class=\"dataframe\">\n",
       "  <thead>\n",
       "    <tr style=\"text-align: right;\">\n",
       "      <th></th>\n",
       "      <th>text</th>\n",
       "    </tr>\n",
       "  </thead>\n",
       "  <tbody>\n",
       "    <tr>\n",
       "      <th>0</th>\n",
       "      <td>should i live in st paul or minneapolis</td>\n",
       "    </tr>\n",
       "    <tr>\n",
       "      <th>1</th>\n",
       "      <td>im having a hard time choosing</td>\n",
       "    </tr>\n",
       "    <tr>\n",
       "      <th>2</th>\n",
       "      <td>as someone who loves nightlife minneapolis seems like the better place for me</td>\n",
       "    </tr>\n",
       "  </tbody>\n",
       "</table>\n",
       "</div>"
      ],
      "text/plain": [
       "                                                                            text\n",
       "0                                        should i live in st paul or minneapolis\n",
       "1                                                 im having a hard time choosing\n",
       "2  as someone who loves nightlife minneapolis seems like the better place for me"
      ]
     },
     "execution_count": 9,
     "metadata": {},
     "output_type": "execute_result"
    }
   ],
   "source": [
    "#Perform punctuation removal \n",
    "import re\n",
    "from string import punctuation\n",
    "pattern = re.compile('[{}]'.format(re.escape(punctuation)))\n",
    "frame['text'] = frame['text'].str.replace(pattern, '')\n",
    "frame.head()"
   ]
  },
  {
   "cell_type": "code",
   "execution_count": 10,
   "metadata": {
    "colab": {
     "base_uri": "https://localhost:8080/",
     "height": 136
    },
    "colab_type": "code",
    "id": "lsNMXFejxdxQ",
    "outputId": "396c39f7-fd68-473e-d427-f82f850df9de"
   },
   "outputs": [
    {
     "data": {
      "text/html": [
       "<div>\n",
       "<style scoped>\n",
       "    .dataframe tbody tr th:only-of-type {\n",
       "        vertical-align: middle;\n",
       "    }\n",
       "\n",
       "    .dataframe tbody tr th {\n",
       "        vertical-align: top;\n",
       "    }\n",
       "\n",
       "    .dataframe thead th {\n",
       "        text-align: right;\n",
       "    }\n",
       "</style>\n",
       "<table border=\"1\" class=\"dataframe\">\n",
       "  <thead>\n",
       "    <tr style=\"text-align: right;\">\n",
       "      <th></th>\n",
       "      <th>text</th>\n",
       "    </tr>\n",
       "  </thead>\n",
       "  <tbody>\n",
       "    <tr>\n",
       "      <th>0</th>\n",
       "      <td>[should, i, live, in, st, paul, or, minneapolis]</td>\n",
       "    </tr>\n",
       "    <tr>\n",
       "      <th>1</th>\n",
       "      <td>[im, having, a, hard, time, choosing]</td>\n",
       "    </tr>\n",
       "    <tr>\n",
       "      <th>2</th>\n",
       "      <td>[as, someone, who, loves, nightlife, minneapolis, seems, like, the, better, place, for, me]</td>\n",
       "    </tr>\n",
       "  </tbody>\n",
       "</table>\n",
       "</div>"
      ],
      "text/plain": [
       "                                                                                          text\n",
       "0                                             [should, i, live, in, st, paul, or, minneapolis]\n",
       "1                                                        [im, having, a, hard, time, choosing]\n",
       "2  [as, someone, who, loves, nightlife, minneapolis, seems, like, the, better, place, for, me]"
      ]
     },
     "execution_count": 10,
     "metadata": {},
     "output_type": "execute_result"
    }
   ],
   "source": [
    "#Perform tokenization\n",
    "from nltk.tokenize import word_tokenize\n",
    "frame['text'] = frame['text'].apply(word_tokenize)\n",
    "frame.head()"
   ]
  },
  {
   "cell_type": "code",
   "execution_count": 11,
   "metadata": {
    "colab": {
     "base_uri": "https://localhost:8080/",
     "height": 87
    },
    "colab_type": "code",
    "id": "qDpCbDACxdxg",
    "outputId": "714625d8-1850-4e50-bab8-b668065c93b2"
   },
   "outputs": [
    {
     "data": {
      "text/plain": [
       "0     8\n",
       "1     6\n",
       "2    13\n",
       "Name: text, dtype: int64"
      ]
     },
     "execution_count": 11,
     "metadata": {},
     "output_type": "execute_result"
    }
   ],
   "source": [
    "#View the number of tokens in each sentence in the text column\n",
    "frame['text'].str.len()"
   ]
  },
  {
   "cell_type": "code",
   "execution_count": 12,
   "metadata": {
    "colab": {
     "base_uri": "https://localhost:8080/",
     "height": 171
    },
    "colab_type": "code",
    "id": "ZaBmxSU1xdxu",
    "outputId": "df17a5a1-2006-4ace-d216-5c026fadffa5"
   },
   "outputs": [
    {
     "name": "stderr",
     "output_type": "stream",
     "text": [
      "[nltk_data] Downloading package wordnet to\n",
      "[nltk_data]     C:\\Users\\Michael\\AppData\\Roaming\\nltk_data...\n",
      "[nltk_data]   Package wordnet is already up-to-date!\n"
     ]
    },
    {
     "data": {
      "text/html": [
       "<div>\n",
       "<style scoped>\n",
       "    .dataframe tbody tr th:only-of-type {\n",
       "        vertical-align: middle;\n",
       "    }\n",
       "\n",
       "    .dataframe tbody tr th {\n",
       "        vertical-align: top;\n",
       "    }\n",
       "\n",
       "    .dataframe thead th {\n",
       "        text-align: right;\n",
       "    }\n",
       "</style>\n",
       "<table border=\"1\" class=\"dataframe\">\n",
       "  <thead>\n",
       "    <tr style=\"text-align: right;\">\n",
       "      <th></th>\n",
       "      <th>text</th>\n",
       "    </tr>\n",
       "  </thead>\n",
       "  <tbody>\n",
       "    <tr>\n",
       "      <th>0</th>\n",
       "      <td>[should, i, live, in, st, paul, or, minneapolis]</td>\n",
       "    </tr>\n",
       "    <tr>\n",
       "      <th>1</th>\n",
       "      <td>[im, having, a, hard, time, choosing]</td>\n",
       "    </tr>\n",
       "    <tr>\n",
       "      <th>2</th>\n",
       "      <td>[a, someone, who, love, nightlife, minneapolis, seems, like, the, better, place, for, me]</td>\n",
       "    </tr>\n",
       "  </tbody>\n",
       "</table>\n",
       "</div>"
      ],
      "text/plain": [
       "                                                                                        text\n",
       "0                                           [should, i, live, in, st, paul, or, minneapolis]\n",
       "1                                                      [im, having, a, hard, time, choosing]\n",
       "2  [a, someone, who, love, nightlife, minneapolis, seems, like, the, better, place, for, me]"
      ]
     },
     "execution_count": 12,
     "metadata": {},
     "output_type": "execute_result"
    }
   ],
   "source": [
    "#Peform lemmatization on each sentence in the text column \n",
    "\n",
    "import nltk\n",
    "nltk.download('wordnet')\n",
    "from nltk.stem import WordNetLemmatizer\n",
    "\n",
    "lemmatizer = WordNetLemmatizer()\n",
    "\n",
    "def lemmatize_text(text):\n",
    "  return [lemmatizer.lemmatize(w) for w in text]\n",
    "\n",
    "frame['text'] = frame['text'].apply(lemmatize_text)\n",
    "frame.head()\n",
    "\n"
   ]
  },
  {
   "cell_type": "markdown",
   "metadata": {
    "colab_type": "text",
    "id": "X-2sbWfgxdyC"
   },
   "source": [
    "## Application and Practice 1 ##"
   ]
  },
  {
   "cell_type": "code",
   "execution_count": 1,
   "metadata": {
    "colab": {
     "base_uri": "https://localhost:8080/",
     "height": 219
    },
    "colab_type": "code",
    "id": "Ri-wVHM_xdyE",
    "outputId": "e35f6e39-2f8f-4272-85d5-47193fc089a1"
   },
   "outputs": [
    {
     "name": "stdout",
     "output_type": "stream",
     "text": [
      "Requirement already satisfied: xlrd in c:\\users\\michael\\downloads\\miniconda3\\lib\\site-packages (1.2.0)\n"
     ]
    },
    {
     "data": {
      "text/html": [
       "<div>\n",
       "<style scoped>\n",
       "    .dataframe tbody tr th:only-of-type {\n",
       "        vertical-align: middle;\n",
       "    }\n",
       "\n",
       "    .dataframe tbody tr th {\n",
       "        vertical-align: top;\n",
       "    }\n",
       "\n",
       "    .dataframe thead th {\n",
       "        text-align: right;\n",
       "    }\n",
       "</style>\n",
       "<table border=\"1\" class=\"dataframe\">\n",
       "  <thead>\n",
       "    <tr style=\"text-align: right;\">\n",
       "      <th></th>\n",
       "      <th>Comment Number</th>\n",
       "      <th>Policy number</th>\n",
       "      <th>Policy</th>\n",
       "      <th>Comment</th>\n",
       "      <th>Timestamp</th>\n",
       "    </tr>\n",
       "  </thead>\n",
       "  <tbody>\n",
       "    <tr>\n",
       "      <th>0</th>\n",
       "      <td>1</td>\n",
       "      <td>0.2</td>\n",
       "      <td>/small-area-plans/</td>\n",
       "      <td>It would be very useful to have a map-based in...</td>\n",
       "      <td>2018-03-22 21:32:45</td>\n",
       "    </tr>\n",
       "    <tr>\n",
       "      <th>1</th>\n",
       "      <td>2</td>\n",
       "      <td>14.0</td>\n",
       "      <td>/policies/tree-canopy-and-urban-forest/</td>\n",
       "      <td>On topic \\r\\n\\r\\nb. Provide education and trai...</td>\n",
       "      <td>2018-03-22 21:53:01</td>\n",
       "    </tr>\n",
       "    <tr>\n",
       "      <th>2</th>\n",
       "      <td>3</td>\n",
       "      <td>18.0</td>\n",
       "      <td>/policies/walking/</td>\n",
       "      <td>ENFORCE TRAFFIC LAWS THAT ALREADY EXIST.</td>\n",
       "      <td>2018-03-22 22:20:49</td>\n",
       "    </tr>\n",
       "    <tr>\n",
       "      <th>3</th>\n",
       "      <td>4</td>\n",
       "      <td>0.1</td>\n",
       "      <td>/topics/land-use-built-form/</td>\n",
       "      <td>I love the fact that there are height minimums...</td>\n",
       "      <td>2018-03-22 22:24:49</td>\n",
       "    </tr>\n",
       "    <tr>\n",
       "      <th>4</th>\n",
       "      <td>5</td>\n",
       "      <td>35.0</td>\n",
       "      <td>/policies/innovative-housing-types/</td>\n",
       "      <td>This is good</td>\n",
       "      <td>2018-03-22 22:27:59</td>\n",
       "    </tr>\n",
       "  </tbody>\n",
       "</table>\n",
       "</div>"
      ],
      "text/plain": [
       "   Comment Number  Policy number                                   Policy  \\\n",
       "0               1            0.2                       /small-area-plans/   \n",
       "1               2           14.0  /policies/tree-canopy-and-urban-forest/   \n",
       "2               3           18.0                       /policies/walking/   \n",
       "3               4            0.1             /topics/land-use-built-form/   \n",
       "4               5           35.0      /policies/innovative-housing-types/   \n",
       "\n",
       "                                             Comment           Timestamp  \n",
       "0  It would be very useful to have a map-based in... 2018-03-22 21:32:45  \n",
       "1  On topic \\r\\n\\r\\nb. Provide education and trai... 2018-03-22 21:53:01  \n",
       "2           ENFORCE TRAFFIC LAWS THAT ALREADY EXIST. 2018-03-22 22:20:49  \n",
       "3  I love the fact that there are height minimums... 2018-03-22 22:24:49  \n",
       "4                                       This is good 2018-03-22 22:27:59  "
      ]
     },
     "execution_count": 1,
     "metadata": {},
     "output_type": "execute_result"
    }
   ],
   "source": [
    "#Install xlrd and and load dataset into a pandas dataframe we'll call comments. Examine first 5 rows\n",
    "!pip install xlrd\n",
    "\n",
    "import pandas as pd\n",
    "\n",
    "comments = pd.read_excel('msp2040.xlsx', header = 0)\n",
    "\n",
    "comments.head()"
   ]
  },
  {
   "cell_type": "code",
   "execution_count": 2,
   "metadata": {
    "colab": {
     "base_uri": "https://localhost:8080/",
     "height": 306
    },
    "colab_type": "code",
    "id": "YCMj-7qrxdyK",
    "outputId": "9de80b9c-fa42-486b-b294-d9146d94dc05"
   },
   "outputs": [
    {
     "data": {
      "text/html": [
       "<div>\n",
       "<style scoped>\n",
       "    .dataframe tbody tr th:only-of-type {\n",
       "        vertical-align: middle;\n",
       "    }\n",
       "\n",
       "    .dataframe tbody tr th {\n",
       "        vertical-align: top;\n",
       "    }\n",
       "\n",
       "    .dataframe thead th {\n",
       "        text-align: right;\n",
       "    }\n",
       "</style>\n",
       "<table border=\"1\" class=\"dataframe\">\n",
       "  <thead>\n",
       "    <tr style=\"text-align: right;\">\n",
       "      <th></th>\n",
       "      <th>Comment Number</th>\n",
       "      <th>Policy number</th>\n",
       "      <th>Policy</th>\n",
       "      <th>Comment</th>\n",
       "      <th>Timestamp</th>\n",
       "    </tr>\n",
       "  </thead>\n",
       "  <tbody>\n",
       "    <tr>\n",
       "      <th>8519</th>\n",
       "      <td>8520</td>\n",
       "      <td>1.0</td>\n",
       "      <td>/policies/access-to-housing/</td>\n",
       "      <td>NO interior 3!</td>\n",
       "      <td>2018-07-23 12:24:00</td>\n",
       "    </tr>\n",
       "    <tr>\n",
       "      <th>8520</th>\n",
       "      <td>8521</td>\n",
       "      <td>1.0</td>\n",
       "      <td>/policies/access-to-housing/</td>\n",
       "      <td>People want to live in Minneapolis Because of ...</td>\n",
       "      <td>2018-07-23 12:28:00</td>\n",
       "    </tr>\n",
       "    <tr>\n",
       "      <th>8521</th>\n",
       "      <td>8522</td>\n",
       "      <td>42.0</td>\n",
       "      <td>/policies/expand-homeownership/</td>\n",
       "      <td>Home ownership is key to keeping our neighborh...</td>\n",
       "      <td>2018-07-23 12:32:00</td>\n",
       "    </tr>\n",
       "    <tr>\n",
       "      <th>8522</th>\n",
       "      <td>8523</td>\n",
       "      <td>0.1</td>\n",
       "      <td>/topics/land-use-built-form/</td>\n",
       "      <td>Buildings in these corridors should not exceed...</td>\n",
       "      <td>2018-07-23 12:45:00</td>\n",
       "    </tr>\n",
       "    <tr>\n",
       "      <th>8523</th>\n",
       "      <td>8524</td>\n",
       "      <td>28.0</td>\n",
       "      <td>/policies/msp-airport/</td>\n",
       "      <td>Build a subway system downtown for faster tran...</td>\n",
       "      <td>2018-07-23 13:19:00</td>\n",
       "    </tr>\n",
       "  </tbody>\n",
       "</table>\n",
       "</div>"
      ],
      "text/plain": [
       "      Comment Number  Policy number                           Policy  \\\n",
       "8519            8520            1.0     /policies/access-to-housing/   \n",
       "8520            8521            1.0     /policies/access-to-housing/   \n",
       "8521            8522           42.0  /policies/expand-homeownership/   \n",
       "8522            8523            0.1     /topics/land-use-built-form/   \n",
       "8523            8524           28.0           /policies/msp-airport/   \n",
       "\n",
       "                                                Comment           Timestamp  \n",
       "8519                                     NO interior 3! 2018-07-23 12:24:00  \n",
       "8520  People want to live in Minneapolis Because of ... 2018-07-23 12:28:00  \n",
       "8521  Home ownership is key to keeping our neighborh... 2018-07-23 12:32:00  \n",
       "8522  Buildings in these corridors should not exceed... 2018-07-23 12:45:00  \n",
       "8523  Build a subway system downtown for faster tran... 2018-07-23 13:19:00  "
      ]
     },
     "execution_count": 2,
     "metadata": {},
     "output_type": "execute_result"
    }
   ],
   "source": [
    "#Examine last 5 rows\n",
    "comments.tail()"
   ]
  },
  {
   "cell_type": "code",
   "execution_count": 3,
   "metadata": {
    "colab": {
     "base_uri": "https://localhost:8080/",
     "height": 34
    },
    "colab_type": "code",
    "id": "CP12E6ILxdyg",
    "outputId": "f98c221b-d21b-4f29-8e60-62e9c481abae"
   },
   "outputs": [
    {
     "data": {
      "text/plain": [
       "(8524, 5)"
      ]
     },
     "execution_count": 3,
     "metadata": {},
     "output_type": "execute_result"
    }
   ],
   "source": [
    "#View dataframe shape\n",
    "comments.shape"
   ]
  },
  {
   "cell_type": "code",
   "execution_count": 4,
   "metadata": {
    "colab": {
     "base_uri": "https://localhost:8080/",
     "height": 187
    },
    "colab_type": "code",
    "id": "A1KcFL4uxdyl",
    "outputId": "97621531-4767-4926-9904-f88338553f70"
   },
   "outputs": [
    {
     "name": "stdout",
     "output_type": "stream",
     "text": [
      "<class 'pandas.core.frame.DataFrame'>\n",
      "RangeIndex: 8524 entries, 0 to 8523\n",
      "Data columns (total 5 columns):\n",
      "Comment Number    8524 non-null int64\n",
      "Policy number     8524 non-null float64\n",
      "Policy            8524 non-null object\n",
      "Comment           8524 non-null object\n",
      "Timestamp         8524 non-null datetime64[ns]\n",
      "dtypes: datetime64[ns](1), float64(1), int64(1), object(2)\n",
      "memory usage: 333.0+ KB\n"
     ]
    }
   ],
   "source": [
    "#View more detailed infor regarding dataframe and its columns including present datatypes\n",
    "comments.info()"
   ]
  },
  {
   "cell_type": "code",
   "execution_count": 5,
   "metadata": {
    "colab": {
     "base_uri": "https://localhost:8080/",
     "height": 306
    },
    "colab_type": "code",
    "id": "FRlY6SBAxdyq",
    "outputId": "ab80ca3a-bffa-40e4-8966-c081da65bdae"
   },
   "outputs": [
    {
     "data": {
      "text/html": [
       "<div>\n",
       "<style scoped>\n",
       "    .dataframe tbody tr th:only-of-type {\n",
       "        vertical-align: middle;\n",
       "    }\n",
       "\n",
       "    .dataframe tbody tr th {\n",
       "        vertical-align: top;\n",
       "    }\n",
       "\n",
       "    .dataframe thead th {\n",
       "        text-align: right;\n",
       "    }\n",
       "</style>\n",
       "<table border=\"1\" class=\"dataframe\">\n",
       "  <thead>\n",
       "    <tr style=\"text-align: right;\">\n",
       "      <th></th>\n",
       "      <th>Comment Number</th>\n",
       "      <th>Policy number</th>\n",
       "      <th>Policy</th>\n",
       "      <th>Comment</th>\n",
       "      <th>Timestamp</th>\n",
       "    </tr>\n",
       "  </thead>\n",
       "  <tbody>\n",
       "    <tr>\n",
       "      <th>0</th>\n",
       "      <td>1</td>\n",
       "      <td>0.2</td>\n",
       "      <td>/small-area-plans/</td>\n",
       "      <td>It would be very useful to have a map-based in...</td>\n",
       "      <td>2018-03-22 21:32:45</td>\n",
       "    </tr>\n",
       "    <tr>\n",
       "      <th>1</th>\n",
       "      <td>2</td>\n",
       "      <td>14.0</td>\n",
       "      <td>/policies/tree-canopy-and-urban-forest/</td>\n",
       "      <td>On topic \\r\\n\\r\\nb. Provide education and trai...</td>\n",
       "      <td>2018-03-22 21:53:01</td>\n",
       "    </tr>\n",
       "    <tr>\n",
       "      <th>2</th>\n",
       "      <td>3</td>\n",
       "      <td>18.0</td>\n",
       "      <td>/policies/walking/</td>\n",
       "      <td>ENFORCE TRAFFIC LAWS THAT ALREADY EXIST.</td>\n",
       "      <td>2018-03-22 22:20:49</td>\n",
       "    </tr>\n",
       "    <tr>\n",
       "      <th>3</th>\n",
       "      <td>4</td>\n",
       "      <td>0.1</td>\n",
       "      <td>/topics/land-use-built-form/</td>\n",
       "      <td>I love the fact that there are height minimums...</td>\n",
       "      <td>2018-03-22 22:24:49</td>\n",
       "    </tr>\n",
       "    <tr>\n",
       "      <th>4</th>\n",
       "      <td>5</td>\n",
       "      <td>35.0</td>\n",
       "      <td>/policies/innovative-housing-types/</td>\n",
       "      <td>This is good</td>\n",
       "      <td>2018-03-22 22:27:59</td>\n",
       "    </tr>\n",
       "  </tbody>\n",
       "</table>\n",
       "</div>"
      ],
      "text/plain": [
       "   Comment Number  Policy number                                   Policy  \\\n",
       "0               1            0.2                       /small-area-plans/   \n",
       "1               2           14.0  /policies/tree-canopy-and-urban-forest/   \n",
       "2               3           18.0                       /policies/walking/   \n",
       "3               4            0.1             /topics/land-use-built-form/   \n",
       "4               5           35.0      /policies/innovative-housing-types/   \n",
       "\n",
       "                                             Comment           Timestamp  \n",
       "0  It would be very useful to have a map-based in... 2018-03-22 21:32:45  \n",
       "1  On topic \\r\\n\\r\\nb. Provide education and trai... 2018-03-22 21:53:01  \n",
       "2           ENFORCE TRAFFIC LAWS THAT ALREADY EXIST. 2018-03-22 22:20:49  \n",
       "3  I love the fact that there are height minimums... 2018-03-22 22:24:49  \n",
       "4                                       This is good 2018-03-22 22:27:59  "
      ]
     },
     "execution_count": 5,
     "metadata": {},
     "output_type": "execute_result"
    }
   ],
   "source": [
    "#Retrieve first 5 rows with integer-location based indexing using pandas.DataFrame.iloc method\n",
    "comments.iloc[0:5,:]"
   ]
  },
  {
   "cell_type": "code",
   "execution_count": 6,
   "metadata": {
    "colab": {
     "base_uri": "https://localhost:8080/",
     "height": 306
    },
    "colab_type": "code",
    "id": "3CiFrI2cxdy2",
    "outputId": "216a5165-7b85-41d0-8335-07466b9921ea"
   },
   "outputs": [
    {
     "data": {
      "text/html": [
       "<div>\n",
       "<style scoped>\n",
       "    .dataframe tbody tr th:only-of-type {\n",
       "        vertical-align: middle;\n",
       "    }\n",
       "\n",
       "    .dataframe tbody tr th {\n",
       "        vertical-align: top;\n",
       "    }\n",
       "\n",
       "    .dataframe thead th {\n",
       "        text-align: right;\n",
       "    }\n",
       "</style>\n",
       "<table border=\"1\" class=\"dataframe\">\n",
       "  <thead>\n",
       "    <tr style=\"text-align: right;\">\n",
       "      <th></th>\n",
       "      <th>Policy number</th>\n",
       "      <th>Policy</th>\n",
       "      <th>Comment</th>\n",
       "      <th>Timestamp</th>\n",
       "    </tr>\n",
       "  </thead>\n",
       "  <tbody>\n",
       "    <tr>\n",
       "      <th>0</th>\n",
       "      <td>0.2</td>\n",
       "      <td>/small-area-plans/</td>\n",
       "      <td>It would be very useful to have a map-based in...</td>\n",
       "      <td>2018-03-22 21:32:45</td>\n",
       "    </tr>\n",
       "    <tr>\n",
       "      <th>1</th>\n",
       "      <td>14.0</td>\n",
       "      <td>/policies/tree-canopy-and-urban-forest/</td>\n",
       "      <td>On topic \\r\\n\\r\\nb. Provide education and trai...</td>\n",
       "      <td>2018-03-22 21:53:01</td>\n",
       "    </tr>\n",
       "    <tr>\n",
       "      <th>2</th>\n",
       "      <td>18.0</td>\n",
       "      <td>/policies/walking/</td>\n",
       "      <td>ENFORCE TRAFFIC LAWS THAT ALREADY EXIST.</td>\n",
       "      <td>2018-03-22 22:20:49</td>\n",
       "    </tr>\n",
       "    <tr>\n",
       "      <th>3</th>\n",
       "      <td>0.1</td>\n",
       "      <td>/topics/land-use-built-form/</td>\n",
       "      <td>I love the fact that there are height minimums...</td>\n",
       "      <td>2018-03-22 22:24:49</td>\n",
       "    </tr>\n",
       "    <tr>\n",
       "      <th>4</th>\n",
       "      <td>35.0</td>\n",
       "      <td>/policies/innovative-housing-types/</td>\n",
       "      <td>This is good</td>\n",
       "      <td>2018-03-22 22:27:59</td>\n",
       "    </tr>\n",
       "  </tbody>\n",
       "</table>\n",
       "</div>"
      ],
      "text/plain": [
       "   Policy number                                   Policy  \\\n",
       "0            0.2                       /small-area-plans/   \n",
       "1           14.0  /policies/tree-canopy-and-urban-forest/   \n",
       "2           18.0                       /policies/walking/   \n",
       "3            0.1             /topics/land-use-built-form/   \n",
       "4           35.0      /policies/innovative-housing-types/   \n",
       "\n",
       "                                             Comment           Timestamp  \n",
       "0  It would be very useful to have a map-based in... 2018-03-22 21:32:45  \n",
       "1  On topic \\r\\n\\r\\nb. Provide education and trai... 2018-03-22 21:53:01  \n",
       "2           ENFORCE TRAFFIC LAWS THAT ALREADY EXIST. 2018-03-22 22:20:49  \n",
       "3  I love the fact that there are height minimums... 2018-03-22 22:24:49  \n",
       "4                                       This is good 2018-03-22 22:27:59  "
      ]
     },
     "execution_count": 6,
     "metadata": {},
     "output_type": "execute_result"
    }
   ],
   "source": [
    "#Remove the column 'Comment Number' via indexing and slicing with pandas.DataFrame.iloc method\n",
    "comments = comments.iloc[:,1:]\n",
    "comments.head()"
   ]
  },
  {
   "cell_type": "code",
   "execution_count": 7,
   "metadata": {
    "colab": {
     "base_uri": "https://localhost:8080/",
     "height": 406
    },
    "colab_type": "code",
    "id": "smpT_oTIxdzE",
    "outputId": "bd0cb570-4923-42ad-e7bc-b4afbb961430"
   },
   "outputs": [
    {
     "data": {
      "image/png": "[encoded data removed]",
      "text/plain": [
       "<Figure size 432x288 with 1 Axes>"
      ]
     },
     "metadata": {
      "needs_background": "light"
     },
     "output_type": "display_data"
    }
   ],
   "source": [
    "#Plot a bar graph using the count of the Timestamp column. \n",
    "%matplotlib inline\n",
    "ax = comments['Comment'].groupby([comments['Timestamp'].dt.year, comments['Timestamp'].dt.month]).count().plot(kind=\"bar\")\n",
    "\n",
    "_ = ax.set(xlabel=\"Comments\", ylabel= \"Number\", title = \"Number of Comments by Month\")\n"
   ]
  },
  {
   "cell_type": "code",
   "execution_count": 8,
   "metadata": {
    "colab": {
     "base_uri": "https://localhost:8080/",
     "height": 286
    },
    "colab_type": "code",
    "id": "V7LmGWd1xd0P",
    "outputId": "e3927687-5263-4097-9558-55c901cbd49a"
   },
   "outputs": [
    {
     "name": "stdout",
     "output_type": "stream",
     "text": [
      "Requirement already satisfied: wordcloud in c:\\users\\michael\\downloads\\miniconda3\\lib\\site-packages (1.5.0)\n",
      "Requirement already satisfied: matplotlib in c:\\users\\michael\\downloads\\miniconda3\\lib\\site-packages (3.0.2)\n",
      "Requirement already satisfied: numpy>=1.6.1 in c:\\users\\michael\\downloads\\miniconda3\\lib\\site-packages (from wordcloud) (1.16.0)\n",
      "Requirement already satisfied: pillow in c:\\users\\michael\\downloads\\miniconda3\\lib\\site-packages (from wordcloud) (5.4.1)\n",
      "Requirement already satisfied: pyparsing!=2.0.4,!=2.1.2,!=2.1.6,>=2.0.1 in c:\\users\\michael\\downloads\\miniconda3\\lib\\site-packages (from matplotlib) (2.3.1)\n",
      "Requirement already satisfied: python-dateutil>=2.1 in c:\\users\\michael\\downloads\\miniconda3\\lib\\site-packages (from matplotlib) (2.7.5)\n",
      "Requirement already satisfied: cycler>=0.10 in c:\\users\\michael\\downloads\\miniconda3\\lib\\site-packages (from matplotlib) (0.10.0)\n",
      "Requirement already satisfied: kiwisolver>=1.0.1 in c:\\users\\michael\\downloads\\miniconda3\\lib\\site-packages (from matplotlib) (1.0.1)\n",
      "Requirement already satisfied: six>=1.5 in c:\\users\\michael\\downloads\\miniconda3\\lib\\site-packages (from python-dateutil>=2.1->matplotlib) (1.12.0)\n",
      "Requirement already satisfied: setuptools in c:\\users\\michael\\downloads\\miniconda3\\lib\\site-packages (from kiwisolver>=1.0.1->matplotlib) (40.6.3)\n"
     ]
    },
    {
     "data": {
      "image/png": "[encoded data removed]",
      "text/plain": [
       "<Figure size 432x288 with 1 Axes>"
      ]
     },
     "metadata": {
      "needs_background": "light"
     },
     "output_type": "display_data"
    }
   ],
   "source": [
    "#Create a wordcloud using the wordcloud library and matplotlib\n",
    "!pip install wordcloud matplotlib\n",
    "import matplotlib.pyplot as plt\n",
    "from wordcloud import WordCloud\n",
    "\n",
    "#Create and generate a word cloud \n",
    "wordcloud = WordCloud(max_words=100, background_color=\"white\").generate(comments['Comment'].str.cat(sep = '\\n'))\n",
    "\n",
    "# Give wordcloud title and display generated wordcloud image\n",
    "plt.imshow(wordcloud, interpolation='bilinear')\n",
    "plt.title('Minneapolis 2040 Public Comments')\n",
    "plt.axis(\"off\")\n",
    "plt.show()\n"
   ]
  },
  {
   "cell_type": "markdown",
   "metadata": {
    "colab_type": "text",
    "id": "Xut3bNJVxdzR"
   },
   "source": [
    "## NLP Practice ##"
   ]
  },
  {
   "cell_type": "code",
   "execution_count": 62,
   "metadata": {
    "colab": {},
    "colab_type": "code",
    "id": "7eYqfUsHxdzX"
   },
   "outputs": [
    {
     "data": {
      "text/html": [
       "<div>\n",
       "<style scoped>\n",
       "    .dataframe tbody tr th:only-of-type {\n",
       "        vertical-align: middle;\n",
       "    }\n",
       "\n",
       "    .dataframe tbody tr th {\n",
       "        vertical-align: top;\n",
       "    }\n",
       "\n",
       "    .dataframe thead th {\n",
       "        text-align: right;\n",
       "    }\n",
       "</style>\n",
       "<table border=\"1\" class=\"dataframe\">\n",
       "  <thead>\n",
       "    <tr style=\"text-align: right;\">\n",
       "      <th></th>\n",
       "      <th>Policy number</th>\n",
       "      <th>Policy</th>\n",
       "      <th>Comment</th>\n",
       "      <th>Timestamp</th>\n",
       "    </tr>\n",
       "  </thead>\n",
       "  <tbody>\n",
       "    <tr>\n",
       "      <th>0</th>\n",
       "      <td>0.2</td>\n",
       "      <td>/small-area-plans/</td>\n",
       "      <td>It would be very useful to have a map-based in...</td>\n",
       "      <td>2018-03-22 21:32:45</td>\n",
       "    </tr>\n",
       "    <tr>\n",
       "      <th>1</th>\n",
       "      <td>14.0</td>\n",
       "      <td>/policies/tree-canopy-and-urban-forest/</td>\n",
       "      <td>On topic \\r\\n\\r\\nb. Provide education and trai...</td>\n",
       "      <td>2018-03-22 21:53:01</td>\n",
       "    </tr>\n",
       "    <tr>\n",
       "      <th>2</th>\n",
       "      <td>18.0</td>\n",
       "      <td>/policies/walking/</td>\n",
       "      <td>ENFORCE TRAFFIC LAWS THAT ALREADY EXIST.</td>\n",
       "      <td>2018-03-22 22:20:49</td>\n",
       "    </tr>\n",
       "    <tr>\n",
       "      <th>3</th>\n",
       "      <td>0.1</td>\n",
       "      <td>/topics/land-use-built-form/</td>\n",
       "      <td>I love the fact that there are height minimums...</td>\n",
       "      <td>2018-03-22 22:24:49</td>\n",
       "    </tr>\n",
       "    <tr>\n",
       "      <th>4</th>\n",
       "      <td>35.0</td>\n",
       "      <td>/policies/innovative-housing-types/</td>\n",
       "      <td>This is good</td>\n",
       "      <td>2018-03-22 22:27:59</td>\n",
       "    </tr>\n",
       "    <tr>\n",
       "      <th>5</th>\n",
       "      <td>76.0</td>\n",
       "      <td>/policies/new-parks/</td>\n",
       "      <td>I love the idea of expanding parks and green s...</td>\n",
       "      <td>2018-03-22 22:29:00</td>\n",
       "    </tr>\n",
       "    <tr>\n",
       "      <th>6</th>\n",
       "      <td>0.1</td>\n",
       "      <td>/topics/land-use-built-form/</td>\n",
       "      <td>This is not transformational or innovative or ...</td>\n",
       "      <td>2018-03-22 22:29:41</td>\n",
       "    </tr>\n",
       "    <tr>\n",
       "      <th>7</th>\n",
       "      <td>0.1</td>\n",
       "      <td>/topics/land-use-built-form/</td>\n",
       "      <td>You cannot even fill in the gaps in corridors ...</td>\n",
       "      <td>2018-03-22 22:29:52</td>\n",
       "    </tr>\n",
       "    <tr>\n",
       "      <th>8</th>\n",
       "      <td>80.0</td>\n",
       "      <td>/policies/development-near-metro-stations/</td>\n",
       "      <td>This is a great plan, especially like the mini...</td>\n",
       "      <td>2018-03-22 22:30:55</td>\n",
       "    </tr>\n",
       "    <tr>\n",
       "      <th>9</th>\n",
       "      <td>0.1</td>\n",
       "      <td>/topics/land-use-built-form/</td>\n",
       "      <td>The exemption you've granted the Kenwood area ...</td>\n",
       "      <td>2018-03-22 22:31:26</td>\n",
       "    </tr>\n",
       "  </tbody>\n",
       "</table>\n",
       "</div>"
      ],
      "text/plain": [
       "   Policy number                                      Policy  \\\n",
       "0            0.2                          /small-area-plans/   \n",
       "1           14.0     /policies/tree-canopy-and-urban-forest/   \n",
       "2           18.0                          /policies/walking/   \n",
       "3            0.1                /topics/land-use-built-form/   \n",
       "4           35.0         /policies/innovative-housing-types/   \n",
       "5           76.0                        /policies/new-parks/   \n",
       "6            0.1                /topics/land-use-built-form/   \n",
       "7            0.1                /topics/land-use-built-form/   \n",
       "8           80.0  /policies/development-near-metro-stations/   \n",
       "9            0.1                /topics/land-use-built-form/   \n",
       "\n",
       "                                             Comment           Timestamp  \n",
       "0  It would be very useful to have a map-based in... 2018-03-22 21:32:45  \n",
       "1  On topic \\r\\n\\r\\nb. Provide education and trai... 2018-03-22 21:53:01  \n",
       "2           ENFORCE TRAFFIC LAWS THAT ALREADY EXIST. 2018-03-22 22:20:49  \n",
       "3  I love the fact that there are height minimums... 2018-03-22 22:24:49  \n",
       "4                                       This is good 2018-03-22 22:27:59  \n",
       "5  I love the idea of expanding parks and green s... 2018-03-22 22:29:00  \n",
       "6  This is not transformational or innovative or ... 2018-03-22 22:29:41  \n",
       "7  You cannot even fill in the gaps in corridors ... 2018-03-22 22:29:52  \n",
       "8  This is a great plan, especially like the mini... 2018-03-22 22:30:55  \n",
       "9  The exemption you've granted the Kenwood area ... 2018-03-22 22:31:26  "
      ]
     },
     "execution_count": 62,
     "metadata": {},
     "output_type": "execute_result"
    }
   ],
   "source": [
    "#View the first 10 records in the dataFrame\n",
    "comments.head(10)"
   ]
  },
  {
   "cell_type": "code",
   "execution_count": 65,
   "metadata": {
    "colab": {},
    "colab_type": "code",
    "id": "uFovhk8Rxdzj",
    "scrolled": true
   },
   "outputs": [
    {
     "name": "stdout",
     "output_type": "stream",
     "text": [
      "[ 0.1  0.2  1.   2.   3.   4.   5.   6.   7.   8.   9.  10.  11.  12.\n",
      " 13.  14.  15.  16.  17.  18.  19.  20.  21.  22.  23.  24.  25.  26.\n",
      " 27.  28.  29.  30.  31.  32.  33.  34.  35.  36.  37.  38.  39.  40.\n",
      " 41.  42.  43.  44.  45.  46.  47.  48.  49.  50.  51.  52.  53.  54.\n",
      " 55.  56.  57.  58.  59.  60.  61.  62.  63.  64.  65.  66.  67.  68.\n",
      " 69.  70.  71.  72.  73.  74.  75.  76.  77.  78.  79.  80.  81.  82.\n",
      " 83.  84.  85.  86.  88.  89.  90.  91.  92.  93.  94.  95.  96.  97. ]\n",
      "\n",
      "No. of policies: 98\n"
     ]
    }
   ],
   "source": [
    "#Create an array containing the policy numbers and then sort and print the array and its length\n",
    "policy_numbers = comments['Policy number'].unique()\n",
    "policy_numbers.sort()\n",
    "\n",
    "print(policy_numbers)\n",
    "\n",
    "print('\\nNo. of policies:', len(policy_numbers))"
   ]
  },
  {
   "cell_type": "code",
   "execution_count": 68,
   "metadata": {},
   "outputs": [
    {
     "data": {
      "text/plain": [
       "{87}"
      ]
     },
     "execution_count": 68,
     "metadata": {},
     "output_type": "execute_result"
    }
   ],
   "source": [
    "#Determine the missing number in the array using python's set function \n",
    "set(range(1, 98)) - set(policy_numbers)\n"
   ]
  },
  {
   "cell_type": "code",
   "execution_count": null,
   "metadata": {
    "colab": {},
    "colab_type": "code",
    "collapsed": true,
    "id": "9V-nlO3sxdzt",
    "scrolled": false
   },
   "outputs": [],
   "source": [
    "#Create a filter that checks if the policy number in a row equals policy number 0.1\n",
    "filter_1 = comments['Policy number'] == 0.1\n",
    "filter_1"
   ]
  },
  {
   "cell_type": "code",
   "execution_count": 0,
   "metadata": {
    "colab": {},
    "colab_type": "code",
    "collapsed": true,
    "id": "hS_0VHwyxdz3"
   },
   "outputs": [],
   "source": [
    "#Use the created filter to create a new dataframe containing only comments on policy number 0.1\n",
    "policy_1 = comments[filter_1]\n",
    "print(policy_1.shape)\n",
    "policy_1.head()\n",
    "\n"
   ]
  }
 ],
 "metadata": {
  "colab": {
   "name": "Text Analytics",
   "provenance": [],
   "version": "0.3.2"
  },
  "kernelspec": {
   "display_name": "Python 3",
   "language": "python",
   "name": "python3"
  },
  "language_info": {
   "codemirror_mode": {
    "name": "ipython",
    "version": 3
   },
   "file_extension": ".py",
   "mimetype": "text/x-python",
   "name": "python",
   "nbconvert_exporter": "python",
   "pygments_lexer": "ipython3",
   "version": "3.6.3"
  }
 },
 "nbformat": 4,
 "nbformat_minor": 1
}
